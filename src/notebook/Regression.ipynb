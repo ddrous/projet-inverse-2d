{
  "nbformat": 4,
  "nbformat_minor": 0,
  "metadata": {
    "colab": {
      "name": "regression3.ipynb",
      "provenance": [],
      "collapsed_sections": [
        "lCNMvubIgyJW"
      ],
      "toc_visible": true,
      "include_colab_link": true
    },
    "kernelspec": {
      "display_name": "Python 3",
      "language": "python",
      "name": "python3"
    },
    "language_info": {
      "codemirror_mode": {
        "name": "ipython",
        "version": 3
      },
      "file_extension": ".py",
      "mimetype": "text/x-python",
      "name": "python",
      "nbconvert_exporter": "python",
      "pygments_lexer": "ipython3",
      "version": "3.7.6"
    },
    "accelerator": "GPU"
  },
  "cells": [
    {
      "cell_type": "markdown",
      "metadata": {
        "id": "view-in-github",
        "colab_type": "text"
      },
      "source": [
        "<a href=\"https://colab.research.google.com/github/desmond-rn/projet-inverse-2d/blob/master/src/notebook/Regression.ipynb\" target=\"_parent\"><img src=\"https://colab.research.google.com/assets/colab-badge.svg\" alt=\"Open In Colab\"/></a>"
      ]
    },
    {
      "cell_type": "markdown",
      "metadata": {
        "colab_type": "text",
        "id": "qxCUfRNWGGvi"
      },
      "source": [
        "L'objectif est de prédire la position et la hauteur d'un saut de densité (créneau) $\\rho$, à partir de $E_l, E_d, E_r, E_u$ (energie des photons), $F_l, F_d, F_r, F_u$ (flux des photons), et $T_l, T_d, T_r, T_u$ (temperature du milieu) sur les bords du domaine en tout temps."
      ]
    },
    {
      "cell_type": "code",
      "metadata": {
        "id": "vU6rE5DnlATL",
        "colab_type": "code",
        "colab": {}
      },
      "source": [
        "%reset -f"
      ],
      "execution_count": null,
      "outputs": []
    },
    {
      "cell_type": "code",
      "metadata": {
        "colab_type": "code",
        "id": "JtAq0O5XGELH",
        "colab": {}
      },
      "source": [
        "import matplotlib.pyplot as plt\n",
        "import matplotlib.image as mpimg\n",
        "import numpy as np\n",
        "import pandas as pd\n",
        "import keras\n",
        "import random\n",
        "import sklearn\n",
        "\n",
        "from ast import literal_eval as l_eval\n",
        "from scipy.stats import reciprocal"
      ],
      "execution_count": null,
      "outputs": []
    },
    {
      "cell_type": "code",
      "metadata": {
        "id": "34nIRiVYjixy",
        "colab_type": "code",
        "colab": {}
      },
      "source": [
        "from keras import layers\n",
        "from keras import models\n",
        "from keras import utils \n",
        "from keras import losses\n",
        "from keras import metrics\n",
        "from keras import optimizers\n",
        "from keras import backend as K\n",
        "from sklearn import metrics\n",
        "from sklearn.model_selection import RandomizedSearchCV"
      ],
      "execution_count": null,
      "outputs": []
    },
    {
      "cell_type": "code",
      "metadata": {
        "id": "_613bT0QlATU",
        "colab_type": "code",
        "colab": {}
      },
      "source": [
        "np.set_printoptions(precision = 3)"
      ],
      "execution_count": null,
      "outputs": []
    },
    {
      "cell_type": "code",
      "metadata": {
        "id": "pCjoUMLNoH5p",
        "colab_type": "code",
        "colab": {
          "base_uri": "https://localhost:8080/",
          "height": 35
        },
        "outputId": "f6cf8231-0c6e-4dd9-86df-b7fa7dea9624"
      },
      "source": [
        "\"\"\" DEPUIS GOOGLE DRIVE \"\"\"\n",
        "# from google.colab import drive\n",
        "# drive.mount('/gdrive')"
      ],
      "execution_count": null,
      "outputs": [
        {
          "output_type": "execute_result",
          "data": {
            "application/vnd.google.colaboratory.intrinsic+json": {
              "type": "string"
            },
            "text/plain": [
              "' DEPUIS GOOGLE DRIVE '"
            ]
          },
          "metadata": {
            "tags": []
          },
          "execution_count": 6
        }
      ]
    },
    {
      "cell_type": "code",
      "metadata": {
        "colab_type": "code",
        "id": "YqjYwCcxt5Bw",
        "colab": {
          "base_uri": "https://localhost:8080/",
          "height": 119
        },
        "outputId": "558ed4df-62f9-4500-e420-387e231ff775"
      },
      "source": [
        "%cd ~\n",
        "%cd /gdrive/My\\ Drive\n",
        "%cd Colab\\ Notebooks/Projet\\ inverse/2D/Apprentissage3\n",
        "print()\n",
        "\n",
        "%ls"
      ],
      "execution_count": null,
      "outputs": [
        {
          "output_type": "stream",
          "text": [
            "/root\n",
            "/gdrive/My Drive\n",
            "/gdrive/My Drive/Colab Notebooks/Projet inverse/2D/Apprentissage3\n",
            "\n",
            "checkpoint  DRNN_2D_CIR.h5   \u001b[0m\u001b[01;34mLabels\u001b[0m/            \u001b[01;34mSamples\u001b[0m/\n",
            "\u001b[01;34mData\u001b[0m/       \u001b[01;34mDRNN_2D_CIR.tf\u001b[0m/  regression3.ipynb  TestHauteruCrenaux.ipynb\n"
          ],
          "name": "stdout"
        }
      ]
    },
    {
      "cell_type": "markdown",
      "metadata": {
        "colab_type": "text",
        "id": "iNXZiUPPFgj7"
      },
      "source": [
        "# PREPARATION"
      ]
    },
    {
      "cell_type": "markdown",
      "metadata": {
        "colab_type": "text",
        "id": "lCNMvubIgyJW"
      },
      "source": [
        "## Chargement des données"
      ]
    },
    {
      "cell_type": "markdown",
      "metadata": {
        "colab_type": "text",
        "id": "1SvU-Ai9rbiR"
      },
      "source": [
        "Les donnees contiennent contiennent $\\rho$, $E$, $F$, et $T$. Elles sont sauvegardées dans un format binaire intitulé **SDS** (source-densité-signal). La version 01 de ce format est structurée dans l'ordre ci-après (l'en-tete du fichier est compris entre les lignes horizontales, et le reste represente la structure d'une des simulations presente dans le fichier):\n",
        "\n",
        "---\n",
        "- **`5`** octets pour la constante magique **sds01**\n",
        "- __`2`__ octets pour le nombre de simulations presentes dans le fichier\n",
        "- __`2`__ octets pour `N` (nombre de mailles en horizontale)\n",
        "- __`2`__ octets pour `M` (nombre de mailles en verticale)\n",
        "- __`2`__ octets pour `step_count` (nombre d'iterations en temps)\n",
        "- **`1`** octet pour le charactere 0xA (newline)\n",
        "---\n",
        "- **`1`** octet pour le bord sur lequel se trouve la source: (0 pour up, 1 pour down, 2 pour left, 3 pour right, et -1 si aucun de ces 4)\n",
        "- **`1`** octet pour la position de la source sur son bord: (0 pour (0.1, 0.3), 1 pour (0.3, 0.5), 2 pour (0.5, 0.7), 3 pour (0.7, 0.9), et -1 si aucun de ces 4)\n",
        "- __`4 * 4`__ octets pour les attributs du crenau de densite: 4 octets (float) pour l'abcisse, 4 pour l'ordonee, 4 pour la valeur de la densite en dehors du crenau, et 4 pour la  hauteur du crenau.\n",
        "- **`step_count * N * 4`** octets pour E_up\n",
        "- idem pour F_up\n",
        "- idem pour T_up\n",
        "- **`step_count * N * 4`** octets pour E_down\n",
        "- idem pour F_up\n",
        "- idem pour T_up\n",
        "- **`step_count * M * 4`** octets pour E_left\n",
        "- idem pour F_left\n",
        "- idem pour T_left\n",
        "- **`step_count * M * 4`** octets pour E_right\n",
        "- idem pour F_right\n",
        "- idem pour T_right\n",
        "- **`1`** octet pour le charactere 0xA (newline)"
      ]
    },
    {
      "cell_type": "code",
      "metadata": {
        "id": "nopK185rxObh",
        "colab_type": "code",
        "colab": {}
      },
      "source": [
        "\"\"\" Fonction pour lire le format binaire SDS \"\"\"\n",
        "def read_sds_version01(file_path):\n",
        "\n",
        "  file = open(file_path, \"rb\")\n",
        "\n",
        "  sds_version = file.read(5)\n",
        "  assert(sds_version == b'sds01')\n",
        "\n",
        "  simu_count = int.from_bytes(file.read(2), byteorder='little', signed=False)\n",
        "  N = int.from_bytes(file.read(2), byteorder='little', signed=False)\n",
        "  M = int.from_bytes(file.read(2), byteorder='little', signed=False)\n",
        "  step_count = int.from_bytes(file.read(2), byteorder='little', signed=False)\n",
        "\n",
        "  assert(file.read(1) == b'\\n')\n",
        "\n",
        "  X = np.zeros(shape=(simu_count // 4, step_count, N, 4, 4, 3), dtype=np.float32)\n",
        "  y = np.zeros(shape=(simu_count // 4, 4), dtype=np.float32)\n",
        "\n",
        "  index = 0\n",
        "  pos_count = 0\n",
        "  while True:\n",
        "    next_byte = file.read(1)\n",
        "    if next_byte == b'':\n",
        "      break\n",
        "\n",
        "    source_edge = int.from_bytes(next_byte, byteorder='little', signed=True)\n",
        "    source_pos = int.from_bytes(file.read(1), byteorder='little', signed=True)\n",
        "    assert (source_edge != -1 and source_pos != -1)\n",
        "    # print(\"index\", index)\n",
        "    # print(\"source \", source_edge, source_pos)\n",
        "\n",
        "    rho_attr = file.read(4*4)\n",
        "    y[index, :] = np.frombuffer(rho_attr, dtype=np.float32)\n",
        "\n",
        "    for e in range(4):\n",
        "      for ch in range(3):\n",
        "        signal = file.read(step_count*N*4)\n",
        "        X[index, :, :, e, source_pos, ch] = np.frombuffer(signal, dtype=np.float32).reshape(step_count, N)\n",
        "\n",
        "    assert(file.read(1) == b'\\n')\n",
        "    pos_count += 1\n",
        "    if pos_count == 4:\n",
        "      index += 1\n",
        "      pos_count = 0\n",
        "\n",
        "  return X, y"
      ],
      "execution_count": null,
      "outputs": []
    },
    {
      "cell_type": "markdown",
      "metadata": {
        "id": "o2ProToG8vvJ",
        "colab_type": "text"
      },
      "source": [
        "La hauteur du crenau (avant lissage) varie d'une partie a l'autre. Les grille de positions x et y varie aussi mais on a toujours un mailalge de taille 20x20 pour chaque partie (1600 simulations). \n",
        "\n",
        "- **PART 1**: La hauteur du crenau (avant lissage) vaut 16 et sur le maillage `[0.2, ..., 0.8] x [0.2, ..., 0.8]`  \n",
        "- **PART 2**: La hauteur du crenau (avant lissage) vaut 14 et sur le maillage `[0.2, ..., 0.8] x [0.25, ..., 0.75]`  \n",
        "- **PART 3**: La hauteur du crenau (avant lissage) vaut 12 et sur le maillage `[0.2, ..., 0.8] x [0.3, ..., 0.7]`  \n",
        "- **PART 4**: La hauteur du crenau (avant lissage) vaut 10 et sur le maillage `[0.25, ..., 0.75] x [0.2, ..., 0.8]`  \n",
        "- **PART 5**: La hauteur du crenau (avant lissage) vaut 8 et sur le maillage `[0.25, ..., 0.75] x [0.25, ..., 0.75]`  \n",
        "- **PART 6**: La hauteur du crenau (avant lissage) vaut 6 et sur le maillage `[0.25, ..., 0.75] x [0.3, ..., 0.7]`  \n",
        "- **PART 7**: La hauteur du crenau (avant lissage) vaut 4 et sur le maillage `[0.3, ..., 0.7] x [0.2, ..., 0.8]`  \n",
        "- **PART 8**: La hauteur du crenau (avant lissage) vaut 2 et sur le maillage `[0.3, ..., 0.7] x [0.25, ..., 0.75]`  \n",
        "- **PART 9**: La hauteur du crenau (avant lissage) vaut 1 et sur le maillage `[0.3, ..., 0.7] x [0.3, ..., 0.7]`  \n",
        "- **PART 10**: La hauteur du crenau (avant lissage) vaut 1 et sur le maillage `[0.2, ..., 0.8] x [0.2, ..., 0.8]`  \n",
        "\n",
        "- **PART 11**: La hauteur du crenau (avant lissage) vaut 0.1 et sur le maillage `[0.2, ..., 0.8] x [0.2, ..., 0.8]` (mais seulement sur un nombre limite de positions)\n",
        "\n",
        "\n"
      ]
    },
    {
      "cell_type": "markdown",
      "metadata": {
        "id": "OstoZN1tzDVk",
        "colab_type": "text"
      },
      "source": [
        "On a aut total 10 parties contenant 400 positions chacunes. Aussi, chaque simulation a necessite 168 iterations sur un maillage de 28 x 28.  On peut donc creer $X$ sous la forme `(10, 400, 168, 28, 4, 4, 3)`.\n",
        "- le premier 4 represente le nombre de bords du domaine\n",
        "- le deuxieme 4 represente le nombre de sources differentes sur le bord gauche\n",
        "- le 3 represente le nombre de canaux ($E$, $F$ et $T$).\n",
        "\n",
        "On cree $y$ sous la forme `(10, 400, 4)`. Le 4 represente le nombre d'attributs du crenau sur la densite. Seuls l'abcisse et l'ordonee du crenau nous intéressent (1er et 2e attributs)."
      ]
    },
    {
      "cell_type": "code",
      "metadata": {
        "id": "BazpSByby7Zw",
        "colab_type": "code",
        "colab": {
          "base_uri": "https://localhost:8080/",
          "height": 232
        },
        "outputId": "c36d71c0-0c41-4956-e893-34de057231a6"
      },
      "source": [
        "n_parts = 10\n",
        "n_pos = 400\n",
        "step_count = 168\n",
        "N = 28 # N=M\n",
        "n_edges = 4\n",
        "n_sources = 4\n",
        "n_channels = 3\n",
        "\n",
        "n_attr = 4\n",
        "\n",
        "X = np.zeros(shape=(n_parts, n_pos, step_count, N, n_edges, n_sources, n_channels), dtype=np.float32)\n",
        "y = np.zeros(shape=(n_parts, n_pos, n_attr), dtype=np.float32)\n",
        "\n",
        "for i in range(n_parts):\n",
        "  X[i], y[i] = read_sds_version01(\"part\"+str(i+1)+\".sds\")\n",
        "\n",
        "print(\"Les dimensions preliminaires:\\n\")\n",
        "print(\"X shape:\", X.shape)\n",
        "print(\"y shape:\", y.shape)"
      ],
      "execution_count": null,
      "outputs": [
        {
          "output_type": "error",
          "ename": "KeyboardInterrupt",
          "evalue": "ignored",
          "traceback": [
            "\u001b[0;31m---------------------------------------------------------------------------\u001b[0m",
            "\u001b[0;31mKeyboardInterrupt\u001b[0m                         Traceback (most recent call last)",
            "\u001b[0;32m<ipython-input-66-26c56703cdde>\u001b[0m in \u001b[0;36m<module>\u001b[0;34m()\u001b[0m\n\u001b[1;32m      9\u001b[0m \u001b[0mn_attr\u001b[0m \u001b[0;34m=\u001b[0m \u001b[0;36m4\u001b[0m\u001b[0;34m\u001b[0m\u001b[0;34m\u001b[0m\u001b[0m\n\u001b[1;32m     10\u001b[0m \u001b[0;34m\u001b[0m\u001b[0m\n\u001b[0;32m---> 11\u001b[0;31m \u001b[0mX\u001b[0m \u001b[0;34m=\u001b[0m \u001b[0mnp\u001b[0m\u001b[0;34m.\u001b[0m\u001b[0mzeros\u001b[0m\u001b[0;34m(\u001b[0m\u001b[0mshape\u001b[0m\u001b[0;34m=\u001b[0m\u001b[0;34m(\u001b[0m\u001b[0mn_parts\u001b[0m\u001b[0;34m,\u001b[0m \u001b[0mn_pos\u001b[0m\u001b[0;34m,\u001b[0m \u001b[0mstep_count\u001b[0m\u001b[0;34m,\u001b[0m \u001b[0mN\u001b[0m\u001b[0;34m,\u001b[0m \u001b[0mn_edges\u001b[0m\u001b[0;34m,\u001b[0m \u001b[0mn_sources\u001b[0m\u001b[0;34m,\u001b[0m \u001b[0mn_channels\u001b[0m\u001b[0;34m)\u001b[0m\u001b[0;34m,\u001b[0m \u001b[0mdtype\u001b[0m\u001b[0;34m=\u001b[0m\u001b[0mnp\u001b[0m\u001b[0;34m.\u001b[0m\u001b[0mfloat32\u001b[0m\u001b[0;34m)\u001b[0m\u001b[0;34m\u001b[0m\u001b[0;34m\u001b[0m\u001b[0m\n\u001b[0m\u001b[1;32m     12\u001b[0m \u001b[0my\u001b[0m \u001b[0;34m=\u001b[0m \u001b[0mnp\u001b[0m\u001b[0;34m.\u001b[0m\u001b[0mzeros\u001b[0m\u001b[0;34m(\u001b[0m\u001b[0mshape\u001b[0m\u001b[0;34m=\u001b[0m\u001b[0;34m(\u001b[0m\u001b[0mn_parts\u001b[0m\u001b[0;34m,\u001b[0m \u001b[0mn_pos\u001b[0m\u001b[0;34m,\u001b[0m \u001b[0mn_attr\u001b[0m\u001b[0;34m)\u001b[0m\u001b[0;34m,\u001b[0m \u001b[0mdtype\u001b[0m\u001b[0;34m=\u001b[0m\u001b[0mnp\u001b[0m\u001b[0;34m.\u001b[0m\u001b[0mfloat32\u001b[0m\u001b[0;34m)\u001b[0m\u001b[0;34m\u001b[0m\u001b[0;34m\u001b[0m\u001b[0m\n\u001b[1;32m     13\u001b[0m \u001b[0;34m\u001b[0m\u001b[0m\n",
            "\u001b[0;31mKeyboardInterrupt\u001b[0m: "
          ]
        }
      ]
    },
    {
      "cell_type": "markdown",
      "metadata": {
        "id": "dPnKa8tZwMPW",
        "colab_type": "text"
      },
      "source": [
        "De facon alternative, on peut charger les donnees qui ont ete sauvegardees avec Numpy."
      ]
    },
    {
      "cell_type": "code",
      "metadata": {
        "id": "q7R-q35BwZCJ",
        "colab_type": "code",
        "colab": {}
      },
      "source": [
        "# \"\"\" Lecture avec Numpy \"\"\""
      ],
      "execution_count": null,
      "outputs": []
    },
    {
      "cell_type": "markdown",
      "metadata": {
        "id": "wRQ5KTLOlAUk",
        "colab_type": "text"
      },
      "source": [
        "## Separation des données"
      ]
    },
    {
      "cell_type": "markdown",
      "metadata": {
        "id": "9THXM3pa5ZLs",
        "colab_type": "text"
      },
      "source": [
        "Avant de separer en train, val et test, il faut normaliser et reshape X. Il faut aussi rendomiser X et y."
      ]
    },
    {
      "cell_type": "code",
      "metadata": {
        "id": "8SJimB4a7jg3",
        "colab_type": "code",
        "colab": {}
      },
      "source": [
        "\"\"\" Une fonction pour detecter le min et le max d'un tenseur en excluant les NaN \"\"\"\n",
        "def min_max(mat, dim=2):\n",
        "  mat_min = mat\n",
        "  for i in range(dim-1, -1, -1):\n",
        "      mat_min = np.nanmin(mat_min, axis=i)\n",
        "      \n",
        "  mat_max = mat\n",
        "  for i in range(dim-1, -1, -1):\n",
        "      mat_max = np.nanmax(mat_max, axis=i)\n",
        "\n",
        "  return mat_min, mat_max\n",
        "\n",
        "\"\"\" On fait une simple normalisation des donnnees. Division par le maximum de valeur absolue de sur chaque canal de X \"\"\"\n",
        "min_E, max_E = min_max(np.abs(X[:, :, :, :, :, :, 0]), 3)\n",
        "min_F, max_F = min_max(np.abs(X[:, :, :, :, :, :, 1]), 3)\n",
        "min_T, max_T = min_max(np.abs(X[:, :, :, :, :, :, 2]), 3)\n",
        "\n",
        "X[:, :, :, :, :, :, 0] = X[:, :, :, :, :, :, 0] / max_E\n",
        "X[:, :, :, :, :, :, 1] = X[:, :, :, :, :, :, 1] / max_F\n",
        "X[:, :, :, :, :, :, 2] = X[:, :, :, :, :, :, 2] / max_T"
      ],
      "execution_count": null,
      "outputs": []
    },
    {
      "cell_type": "code",
      "metadata": {
        "id": "dY_IfX-uJrUM",
        "colab_type": "code",
        "colab": {}
      },
      "source": [
        "\"\"\" On reshape X sous la forme (n_pos_total, step_count, N, 4*4*3) \"\"\"\n",
        "X = X.reshape((n_parts, n_pos, step_count, N, n_edges * n_sources * n_channels))\n",
        "\n",
        "X = X.reshape((-1, step_count, N, n_edges * n_sources * n_channels))"
      ],
      "execution_count": null,
      "outputs": []
    },
    {
      "cell_type": "code",
      "metadata": {
        "id": "YJg44GbgJrJt",
        "colab_type": "code",
        "colab": {}
      },
      "source": [
        "n_samples = len(X)\n",
        "print(\"X shape =\", X.shape)"
      ],
      "execution_count": null,
      "outputs": []
    },
    {
      "cell_type": "code",
      "metadata": {
        "id": "B4lrEinOrGXB",
        "colab_type": "code",
        "colab": {}
      },
      "source": [
        "\"\"\" verifier qu'aucun des X n'est completement vide (null)  \"\"\"\n",
        "for i in range(n_samples):\n",
        "  assert np.all(X[i] == 0) == False"
      ],
      "execution_count": null,
      "outputs": []
    },
    {
      "cell_type": "code",
      "metadata": {
        "id": "qY-TxVKo8VSN",
        "colab_type": "code",
        "colab": {}
      },
      "source": [
        "\"\"\" On reshape y et on extrait juste ses deux premieres colones \"\"\"\n",
        "y = y.reshape((-1, n_attr))\n",
        "y = y[:, [0, 1, 3]]"
      ],
      "execution_count": null,
      "outputs": []
    },
    {
      "cell_type": "code",
      "metadata": {
        "id": "gIxdAqnUIQ5_",
        "colab_type": "code",
        "colab": {}
      },
      "source": [
        "n_targets = len(y)\n",
        "print(\"y shape =\", y.shape)"
      ],
      "execution_count": null,
      "outputs": []
    },
    {
      "cell_type": "code",
      "metadata": {
        "id": "losdBCe1-RpU",
        "colab_type": "code",
        "colab": {}
      },
      "source": [
        "\"\"\" On fait une permutation des entrees et sorties \"\"\"\n",
        "shuffle = np.arange(n_samples)\n",
        "random.shuffle(shuffle)\n",
        "\n",
        "X_copy = X.copy()\n",
        "y_copy = y.copy()\n",
        "\n",
        "for i in range(n_samples):\n",
        "  X_copy[i] = X[shuffle[i]]\n",
        "  y_copy[i] = y[shuffle[i]]\n",
        "\n",
        "X = X_copy\n",
        "y = y_copy\n",
        "\n",
        "del X_copy\n",
        "del y_copy"
      ],
      "execution_count": null,
      "outputs": []
    },
    {
      "cell_type": "code",
      "metadata": {
        "id": "VrxeQ1TblAUm",
        "colab_type": "code",
        "colab": {}
      },
      "source": [
        "len_train, len_val = 7*len(X)//10, 2*len(X)//10\n",
        "\n",
        "X_train = X[:len_train]\n",
        "X_val = X[len_train:len_train+len_val]\n",
        "X_test = X[len_train+len_val:]\n",
        "\n",
        "y_train = y[:len_train]\n",
        "y_val = y[len_train:len_train+len_val]\n",
        "y_test = y[len_train+len_val:]\n",
        "\n",
        "print(\"X shapes =\", np.shape(X_train), np.shape(X_val), np.shape(X_test))\n",
        "print(\"y shapes =\", np.shape(y_train), np.shape(y_val), np.shape(y_test))"
      ],
      "execution_count": null,
      "outputs": []
    },
    {
      "cell_type": "code",
      "metadata": {
        "id": "Infe9tPKaIlV",
        "colab_type": "code",
        "colab": {}
      },
      "source": [
        "# \"\"\" Sauvegarde de ce jeu de donnees pour un prochain apprentissage \"\"\"\n",
        "# np.save(\"../Samples/train\", X_train)\n",
        "# np.save(\"../Samples/val\", X_val)\n",
        "# np.save(\"../Samples/test\", X_test)"
      ],
      "execution_count": null,
      "outputs": []
    },
    {
      "cell_type": "markdown",
      "metadata": {
        "id": "yNYOqVPbKta0",
        "colab_type": "text"
      },
      "source": [
        "## Chargement au format Numpy"
      ]
    },
    {
      "cell_type": "code",
      "metadata": {
        "id": "mNwYeaBULofX",
        "colab_type": "code",
        "colab": {}
      },
      "source": [
        "\"\"\" Les constantes \"\"\"\n",
        "n_parts = 10\n",
        "n_pos = 400\n",
        "step_count = 168\n",
        "N = 28 # N=M\n",
        "n_edges = 4\n",
        "n_sources = 4\n",
        "n_channels = 3\n",
        "\n",
        "n_attr = 4"
      ],
      "execution_count": null,
      "outputs": []
    },
    {
      "cell_type": "code",
      "metadata": {
        "id": "Ywhh8rlCJZXY",
        "colab_type": "code",
        "colab": {}
      },
      "source": [
        "\"\"\" Chargement des donnnees \"\"\"\n",
        "\n",
        "X_train = np.load(\"Samples/train.npy\")\n",
        "X_val = np.load(\"Samples/val.npy\")\n",
        "X_test = np.load(\"Samples/test.npy\")\n",
        "\n",
        "y_train = np.load(\"Labels/train.npy\")\n",
        "y_val = np.load(\"Labels/val.npy\")\n",
        "y_test = np.load(\"Labels/test.npy\")"
      ],
      "execution_count": null,
      "outputs": []
    },
    {
      "cell_type": "code",
      "metadata": {
        "id": "gsSn5NKsLKHW",
        "colab_type": "code",
        "colab": {
          "base_uri": "https://localhost:8080/",
          "height": 85
        },
        "outputId": "ff09dd2b-7f09-4fda-aaba-6415d4ee01d4"
      },
      "source": [
        "print(\"Les dimensions des donnees:\\n\")\n",
        "print(\"X shapes:\", X_train.shape, X_val.shape, X_test.shape)\n",
        "print(\"y shapes:\", y_train.shape, y_val.shape, y_test.shape)"
      ],
      "execution_count": null,
      "outputs": [
        {
          "output_type": "stream",
          "text": [
            "Les dimensions des donnees:\n",
            "\n",
            "X shapes: (2800, 168, 28, 48) (800, 168, 28, 48) (400, 168, 28, 48)\n",
            "y shapes: (2800, 3) (800, 3) (400, 3)\n"
          ],
          "name": "stdout"
        }
      ]
    },
    {
      "cell_type": "markdown",
      "metadata": {
        "id": "hjukTxjUlAUr",
        "colab_type": "text"
      },
      "source": [
        "# APPRENTISSAGE"
      ]
    },
    {
      "cell_type": "markdown",
      "metadata": {
        "id": "QWnwry9dUzyk",
        "colab_type": "text"
      },
      "source": [
        "## Configuration du modèle "
      ]
    },
    {
      "cell_type": "code",
      "metadata": {
        "id": "3_STaXV3i0w2",
        "colab_type": "code",
        "colab": {
          "base_uri": "https://localhost:8080/",
          "height": 493
        },
        "outputId": "2d2e1741-c05f-4cea-a550-5d467e4d4828"
      },
      "source": [
        "\"\"\" Un modèle convolutif \"\"\"\n",
        "model = models.Sequential(name=\"Convoluted_DRNN\")\n",
        "\n",
        "kernel_size = (6, 2)\n",
        "strides = (1, 1)\n",
        "\n",
        "model.add(layers.Conv2D(64, kernel_size, strides=strides, activation='relu', input_shape=(step_count, N, n_edges * n_sources * n_channels)))\n",
        "model.add(layers.Conv2D(32, kernel_size, strides=strides, activation='relu'))\n",
        "\n",
        "# model.add(layers.MaxPooling2D())\n",
        "\n",
        "model.add(layers.Conv2D(64, kernel_size, strides=strides, activation='relu'))\n",
        "model.add(layers.Conv2D(64, kernel_size, strides=strides, activation='relu'))\n",
        "\n",
        "# model.add(layers.MaxPooling2D())\n",
        "\n",
        "model.add(layers.Conv2D(128, kernel_size, strides=strides, activation='relu'))\n",
        "model.add(layers.Conv2D(128, kernel_size, strides=strides, activation='relu'))\n",
        "\n",
        "model.add(layers.Flatten())\n",
        "\n",
        "model.add(layers.Dense(500, activation='relu'))\n",
        "model.add(layers.Dense(50, activation='relu'))\n",
        "\n",
        "model.add(layers.Dense(3, activation='linear'))\n",
        "\n",
        "model.summary()"
      ],
      "execution_count": null,
      "outputs": [
        {
          "output_type": "stream",
          "text": [
            "Model: \"Convoluted_DRNN\"\n",
            "_________________________________________________________________\n",
            "Layer (type)                 Output Shape              Param #   \n",
            "=================================================================\n",
            "conv2d_12 (Conv2D)           (None, 163, 27, 64)       36928     \n",
            "_________________________________________________________________\n",
            "conv2d_13 (Conv2D)           (None, 158, 26, 32)       24608     \n",
            "_________________________________________________________________\n",
            "conv2d_14 (Conv2D)           (None, 153, 25, 64)       24640     \n",
            "_________________________________________________________________\n",
            "conv2d_15 (Conv2D)           (None, 148, 24, 64)       49216     \n",
            "_________________________________________________________________\n",
            "conv2d_16 (Conv2D)           (None, 143, 23, 128)      98432     \n",
            "_________________________________________________________________\n",
            "conv2d_17 (Conv2D)           (None, 138, 22, 128)      196736    \n",
            "_________________________________________________________________\n",
            "flatten_2 (Flatten)          (None, 388608)            0         \n",
            "_________________________________________________________________\n",
            "dense_6 (Dense)              (None, 500)               194304500 \n",
            "_________________________________________________________________\n",
            "dense_7 (Dense)              (None, 50)                25050     \n",
            "_________________________________________________________________\n",
            "dense_8 (Dense)              (None, 3)                 153       \n",
            "=================================================================\n",
            "Total params: 194,760,263\n",
            "Trainable params: 194,760,263\n",
            "Non-trainable params: 0\n",
            "_________________________________________________________________\n"
          ],
          "name": "stdout"
        }
      ]
    },
    {
      "cell_type": "markdown",
      "metadata": {
        "id": "cNhLkiMumSys",
        "colab_type": "text"
      },
      "source": [
        "Pour la compilation:\n",
        "- on utlise l'optimiseur Adam\n",
        "- on utlise la `mse` pour fonction loss\n",
        "- on observe le coefficient de determination"
      ]
    },
    {
      "cell_type": "code",
      "metadata": {
        "id": "2N9K_GfhEFi0",
        "colab_type": "code",
        "colab": {}
      },
      "source": [
        "\"\"\" Pour calculer le score r^2\"\"\"\n",
        "def r2_score(y_true, y_pred):\n",
        "    SS_res =  K.sum(K.square(y_true - y_pred), axis=-1) \n",
        "    SS_tot = K.sum(K.square(y_true - K.mean(y_true)), axis=-1)\n",
        "    return 1.0 - SS_res/(SS_tot + K.epsilon())"
      ],
      "execution_count": null,
      "outputs": []
    },
    {
      "cell_type": "code",
      "metadata": {
        "id": "3_1MeR4_mKoU",
        "colab_type": "code",
        "colab": {}
      },
      "source": [
        "model.compile(optimizer=keras.optimizers.Adam(1e-5), \n",
        "              loss=keras.losses.mse,\n",
        "              # metrics=[keras.metrics.mean_absolute_error]\n",
        "              # metrics=[keras.metrics.MeanAbsolutePercentageError(name=\"accuracy\", dtype=None)]\n",
        "              # metrics=[keras.metrics.CosineSimilarity(name=\"accuracy\", dtype=None, axis=-1)]\n",
        "              metrics=[r2_score]\n",
        "              )"
      ],
      "execution_count": null,
      "outputs": []
    },
    {
      "cell_type": "code",
      "metadata": {
        "id": "D1rLlhVmOCTu",
        "colab_type": "code",
        "colab": {}
      },
      "source": [
        "\"\"\" Pour une decroissance du taux d'apprentissage \"\"\"\n",
        "def scheduler(epoch, lr):\n",
        "  if epoch == 0:\n",
        "    return 0.001\n",
        "  else:\n",
        "    return 0.8 * lr\n",
        "\n",
        "lr_decrease = keras.callbacks.LearningRateScheduler(scheduler)"
      ],
      "execution_count": null,
      "outputs": []
    },
    {
      "cell_type": "code",
      "metadata": {
        "id": "hvIAszPQHiW_",
        "colab_type": "code",
        "colab": {}
      },
      "source": [
        "early_stopping = keras.callbacks.EarlyStopping(patience=10, monitor=\"r2_score\", mode=\"max\", restore_best_weights=True)"
      ],
      "execution_count": null,
      "outputs": []
    },
    {
      "cell_type": "code",
      "metadata": {
        "id": "Tze2I2AOmX7M",
        "colab_type": "code",
        "colab": {
          "base_uri": "https://localhost:8080/",
          "height": 1000
        },
        "outputId": "b2ef5284-1803-4193-9c88-38df623dd363"
      },
      "source": [
        "history = model.fit(X_train,\n",
        "                    y_train,\n",
        "                    epochs=50,\n",
        "                    batch_size=32,\n",
        "                    verbose=1,\n",
        "                    callbacks=[early_stopping],\n",
        "                    validation_data=(X_val, y_val))"
      ],
      "execution_count": null,
      "outputs": [
        {
          "output_type": "stream",
          "text": [
            "Epoch 1/50\n",
            " 2/88 [..............................] - ETA: 5s - loss: 8.4537 - r2_score: 0.0448  WARNING:tensorflow:Callbacks method `on_train_batch_end` is slow compared to the batch time (batch time: 0.0462s vs `on_train_batch_end` time: 0.0903s). Check your callbacks.\n",
            "88/88 [==============================] - 12s 132ms/step - loss: 3.4988 - r2_score: -0.0465 - val_loss: 3.1037 - val_r2_score: 0.0217\n",
            "Epoch 2/50\n",
            "88/88 [==============================] - 12s 132ms/step - loss: 2.5905 - r2_score: 0.2696 - val_loss: 2.1116 - val_r2_score: 0.5530\n",
            "Epoch 3/50\n",
            "88/88 [==============================] - 12s 131ms/step - loss: 1.7884 - r2_score: 0.5760 - val_loss: 1.8413 - val_r2_score: 0.8267\n",
            "Epoch 4/50\n",
            "88/88 [==============================] - 11s 131ms/step - loss: 1.4042 - r2_score: 0.6907 - val_loss: 1.4166 - val_r2_score: 0.8657\n",
            "Epoch 5/50\n",
            "88/88 [==============================] - 11s 129ms/step - loss: 0.9902 - r2_score: 0.8137 - val_loss: 0.9492 - val_r2_score: 0.8926\n",
            "Epoch 6/50\n",
            "88/88 [==============================] - 11s 130ms/step - loss: 0.8708 - r2_score: 0.8316 - val_loss: 1.0601 - val_r2_score: 0.9224\n",
            "Epoch 7/50\n",
            "88/88 [==============================] - 11s 129ms/step - loss: 0.6571 - r2_score: 0.8793 - val_loss: 0.7644 - val_r2_score: 0.7661\n",
            "Epoch 8/50\n",
            "88/88 [==============================] - 11s 130ms/step - loss: 0.5560 - r2_score: 0.8993 - val_loss: 0.4830 - val_r2_score: 0.9509\n",
            "Epoch 9/50\n",
            "88/88 [==============================] - 11s 130ms/step - loss: 0.4529 - r2_score: 0.9197 - val_loss: 0.3684 - val_r2_score: 0.9369\n",
            "Epoch 10/50\n",
            "88/88 [==============================] - 11s 130ms/step - loss: 0.3799 - r2_score: 0.9337 - val_loss: 0.4881 - val_r2_score: 0.8705\n",
            "Epoch 11/50\n",
            "88/88 [==============================] - 11s 130ms/step - loss: 0.3236 - r2_score: 0.9448 - val_loss: 0.2767 - val_r2_score: 0.9457\n",
            "Epoch 12/50\n",
            "88/88 [==============================] - 11s 124ms/step - loss: 0.3205 - r2_score: 0.9445 - val_loss: 0.2342 - val_r2_score: 0.9615\n",
            "Epoch 13/50\n",
            "88/88 [==============================] - 11s 129ms/step - loss: 0.2234 - r2_score: 0.9636 - val_loss: 0.2403 - val_r2_score: 0.9495\n",
            "Epoch 14/50\n",
            "88/88 [==============================] - 11s 125ms/step - loss: 0.2284 - r2_score: 0.9613 - val_loss: 0.2412 - val_r2_score: 0.9453\n",
            "Epoch 15/50\n",
            "88/88 [==============================] - 11s 124ms/step - loss: 0.2399 - r2_score: 0.9591 - val_loss: 0.2123 - val_r2_score: 0.9557\n",
            "Epoch 16/50\n",
            "88/88 [==============================] - 11s 129ms/step - loss: 0.2016 - r2_score: 0.9654 - val_loss: 0.2425 - val_r2_score: 0.9737\n",
            "Epoch 17/50\n",
            "88/88 [==============================] - 11s 130ms/step - loss: 0.1816 - r2_score: 0.9699 - val_loss: 0.1571 - val_r2_score: 0.9725\n",
            "Epoch 18/50\n",
            "88/88 [==============================] - 11s 129ms/step - loss: 0.1679 - r2_score: 0.9718 - val_loss: 0.2685 - val_r2_score: 0.9368\n",
            "Epoch 19/50\n",
            "88/88 [==============================] - 11s 125ms/step - loss: 0.1864 - r2_score: 0.9687 - val_loss: 0.1612 - val_r2_score: 0.9797\n",
            "Epoch 20/50\n",
            "88/88 [==============================] - 11s 130ms/step - loss: 0.1473 - r2_score: 0.9758 - val_loss: 0.1515 - val_r2_score: 0.9701\n",
            "Epoch 21/50\n",
            "88/88 [==============================] - 11s 129ms/step - loss: 0.1424 - r2_score: 0.9768 - val_loss: 0.1440 - val_r2_score: 0.9802\n",
            "Epoch 22/50\n",
            "88/88 [==============================] - 11s 125ms/step - loss: 0.1857 - r2_score: 0.9697 - val_loss: 0.1620 - val_r2_score: 0.9649\n",
            "Epoch 23/50\n",
            "88/88 [==============================] - 11s 125ms/step - loss: 0.1525 - r2_score: 0.9749 - val_loss: 0.2489 - val_r2_score: 0.9714\n",
            "Epoch 24/50\n",
            "88/88 [==============================] - 11s 125ms/step - loss: 0.2165 - r2_score: 0.9643 - val_loss: 0.1249 - val_r2_score: 0.9793\n",
            "Epoch 25/50\n",
            "88/88 [==============================] - 11s 130ms/step - loss: 0.1250 - r2_score: 0.9801 - val_loss: 0.1517 - val_r2_score: 0.9818\n",
            "Epoch 26/50\n",
            "88/88 [==============================] - 11s 125ms/step - loss: 0.1402 - r2_score: 0.9775 - val_loss: 0.1389 - val_r2_score: 0.9732\n",
            "Epoch 27/50\n",
            "88/88 [==============================] - 11s 124ms/step - loss: 0.2346 - r2_score: 0.9602 - val_loss: 0.1412 - val_r2_score: 0.9701\n",
            "Epoch 28/50\n",
            "88/88 [==============================] - 11s 124ms/step - loss: 0.1340 - r2_score: 0.9787 - val_loss: 0.1096 - val_r2_score: 0.9838\n",
            "Epoch 29/50\n",
            "88/88 [==============================] - 11s 125ms/step - loss: 0.1544 - r2_score: 0.9743 - val_loss: 0.1165 - val_r2_score: 0.9810\n",
            "Epoch 30/50\n",
            "88/88 [==============================] - 11s 124ms/step - loss: 0.1517 - r2_score: 0.9756 - val_loss: 0.1057 - val_r2_score: 0.9834\n",
            "Epoch 31/50\n",
            "88/88 [==============================] - 11s 129ms/step - loss: 0.1128 - r2_score: 0.9823 - val_loss: 0.1706 - val_r2_score: 0.9805\n",
            "Epoch 32/50\n",
            "88/88 [==============================] - 11s 124ms/step - loss: 0.1365 - r2_score: 0.9778 - val_loss: 0.2182 - val_r2_score: 0.9787\n",
            "Epoch 33/50\n",
            "88/88 [==============================] - 11s 125ms/step - loss: 0.1210 - r2_score: 0.9810 - val_loss: 0.1503 - val_r2_score: 0.9828\n",
            "Epoch 34/50\n",
            "88/88 [==============================] - 11s 129ms/step - loss: 0.1101 - r2_score: 0.9825 - val_loss: 0.1001 - val_r2_score: 0.9847\n",
            "Epoch 35/50\n",
            "88/88 [==============================] - 11s 129ms/step - loss: 0.1044 - r2_score: 0.9838 - val_loss: 0.0967 - val_r2_score: 0.9850\n",
            "Epoch 36/50\n",
            "88/88 [==============================] - 11s 125ms/step - loss: 0.1117 - r2_score: 0.9825 - val_loss: 0.0966 - val_r2_score: 0.9844\n",
            "Epoch 37/50\n",
            "88/88 [==============================] - 11s 125ms/step - loss: 0.1201 - r2_score: 0.9810 - val_loss: 0.1055 - val_r2_score: 0.9815\n",
            "Epoch 38/50\n",
            "88/88 [==============================] - 11s 125ms/step - loss: 0.1040 - r2_score: 0.9837 - val_loss: 0.1031 - val_r2_score: 0.9815\n",
            "Epoch 39/50\n",
            "88/88 [==============================] - 11s 124ms/step - loss: 0.1113 - r2_score: 0.9826 - val_loss: 0.0924 - val_r2_score: 0.9858\n",
            "Epoch 40/50\n",
            "88/88 [==============================] - 11s 125ms/step - loss: 0.1051 - r2_score: 0.9835 - val_loss: 0.0913 - val_r2_score: 0.9861\n",
            "Epoch 41/50\n",
            "88/88 [==============================] - 11s 125ms/step - loss: 0.1265 - r2_score: 0.9797 - val_loss: 0.0961 - val_r2_score: 0.9852\n",
            "Epoch 42/50\n",
            "88/88 [==============================] - 11s 125ms/step - loss: 0.1111 - r2_score: 0.9817 - val_loss: 0.1263 - val_r2_score: 0.9733\n",
            "Epoch 43/50\n",
            "88/88 [==============================] - 11s 124ms/step - loss: 0.1074 - r2_score: 0.9832 - val_loss: 0.0963 - val_r2_score: 0.9834\n",
            "Epoch 44/50\n",
            "88/88 [==============================] - 11s 125ms/step - loss: 0.1399 - r2_score: 0.9773 - val_loss: 0.0973 - val_r2_score: 0.9827\n",
            "Epoch 45/50\n",
            "88/88 [==============================] - 11s 130ms/step - loss: 0.1026 - r2_score: 0.9839 - val_loss: 0.0879 - val_r2_score: 0.9856\n",
            "Epoch 46/50\n",
            "88/88 [==============================] - 11s 125ms/step - loss: 0.1130 - r2_score: 0.9821 - val_loss: 0.0896 - val_r2_score: 0.9856\n",
            "Epoch 47/50\n",
            "88/88 [==============================] - 11s 129ms/step - loss: 0.0942 - r2_score: 0.9852 - val_loss: 0.0987 - val_r2_score: 0.9829\n",
            "Epoch 48/50\n",
            "88/88 [==============================] - 11s 124ms/step - loss: 0.0970 - r2_score: 0.9848 - val_loss: 0.1102 - val_r2_score: 0.9863\n",
            "Epoch 49/50\n",
            "88/88 [==============================] - 11s 130ms/step - loss: 0.0940 - r2_score: 0.9856 - val_loss: 0.1490 - val_r2_score: 0.9834\n",
            "Epoch 50/50\n",
            "88/88 [==============================] - 11s 124ms/step - loss: 0.0929 - r2_score: 0.9852 - val_loss: 0.0892 - val_r2_score: 0.9852\n"
          ],
          "name": "stdout"
        }
      ]
    },
    {
      "cell_type": "code",
      "metadata": {
        "id": "7aE_6ynH_H9K",
        "colab_type": "code",
        "colab": {}
      },
      "source": [
        "# \"\"\" Technique d'augmentation du batch size \"\"\"\n",
        "# def fit_increase(batch_sizes):\n",
        "#   for i, bs in enumerate(batch_sizes):\n",
        "#     print(\"STEP \"+str(i+1), \"/ 4\", \"- BATCH SIZE =\", bs)\n",
        "#     global history\n",
        "#     history = model.fit(X_train,\n",
        "#                         y_train,\n",
        "#                         # epochs=int(4*(i+1)),\n",
        "#                         epochs=50,\n",
        "#                         batch_size=bs,\n",
        "#                         verbose=1,\n",
        "#                         callbacks=[early_stopping],\n",
        "#                         validation_data=(X_val, y_val))\n",
        "#     print()\n",
        "\n",
        "# bbs = len(X_train) // 100  # base batch size\n",
        "# # fit_increase([bbs*1, bbs*5, bbs*10, bbs*20])\n",
        "# fit_increase([32, 1024])"
      ],
      "execution_count": null,
      "outputs": []
    },
    {
      "cell_type": "code",
      "metadata": {
        "id": "7rqq49Vc6fFa",
        "colab_type": "code",
        "colab": {}
      },
      "source": [
        "# \"\"\" Autre facons de modifier le batch size \"\"\"\n",
        "# dataSlices = [(0,28),(28,168),(168,448),(448,1008),(1008,2800)]\n",
        "\n",
        "# for epochs in range(0,10):\n",
        "#     # shuffle(dataSlices)\n",
        "#     for i in dataSlices:\n",
        "#         X_batch, y_batch = X[i[0]:i[1],:],y[i[0]:i[1],:]\n",
        "#         model.train_on_batch(X_batch, y_batch)\n",
        "\n",
        "# # def data_gen(X, y):\n",
        "# #   dataSlices = [(0,28),(28,168),(168,448),(448,1008),(1008,2800)]\n",
        "  \n",
        "# #   while True:\n",
        "# #     shuffle(dataSlices)\n",
        "# #     i = dataSlices[0]\n",
        "# #     X_batch, y_batch = X[i[0]:i[1],:],y[i[0]:i[1],:]\n",
        "\n",
        "# #     yield X_batch, y_batch\n",
        "\n",
        "# # history = model.fit(data_gen(X_train, y_train), \n",
        "# #                     steps_per_epoch=100, \n",
        "# #                     epochs=100,\n",
        "# #                     verbose=1,\n",
        "# #                     callbacks=[early_stopping],\n",
        "# #                     validation_data=(X_val, y_val))"
      ],
      "execution_count": null,
      "outputs": []
    },
    {
      "cell_type": "markdown",
      "metadata": {
        "id": "z2qprGHPPJUf",
        "colab_type": "text"
      },
      "source": [
        "Verifions le taux d'apprentissage final."
      ]
    },
    {
      "cell_type": "code",
      "metadata": {
        "id": "t8LGeaDnPL8p",
        "colab_type": "code",
        "colab": {
          "base_uri": "https://localhost:8080/",
          "height": 34
        },
        "outputId": "5b4ce0ce-ce4a-4182-bc59-ee2634e28030"
      },
      "source": [
        "print(\"final learning rate:\", round(model.optimizer.lr.numpy(), 5))"
      ],
      "execution_count": null,
      "outputs": [
        {
          "output_type": "stream",
          "text": [
            "final learning rate: 1e-05\n"
          ],
          "name": "stdout"
        }
      ]
    },
    {
      "cell_type": "markdown",
      "metadata": {
        "id": "mS5F5p6WC0wL",
        "colab_type": "text"
      },
      "source": [
        "Observons la decroissance de la loss"
      ]
    },
    {
      "cell_type": "code",
      "metadata": {
        "id": "glQU6RacnMdB",
        "colab_type": "code",
        "colab": {
          "base_uri": "https://localhost:8080/",
          "height": 258
        },
        "outputId": "6c693b7e-71ef-40f2-8522-64e017cbc058"
      },
      "source": [
        "history_dict = history.history\n",
        "\n",
        "loss = history.history['loss']\n",
        "val_loss = history.history['val_loss']\n",
        "# acc = history_dict['accuracy']\n",
        "# val_acc = history_dict['val_accuracy']\n",
        "acc = history_dict['r2_score']\n",
        "val_acc = history_dict['val_r2_score']\n",
        "\n",
        "epochs = range(1, len(loss)+1)\n",
        "ticks = range(1, len(loss)+1, 5)\n",
        "\n",
        "fig,(ax0,ax1)=plt.subplots(1,2,figsize=(10, 3))\n",
        "\n",
        "ax0.plot(epochs, loss, 'b', label='training loss')\n",
        "ax0.plot(epochs, val_loss, 'g.', label='validation loss')\n",
        "ax0.set_xticks(ticks)\n",
        "ax0.set_xlabel('epochs')\n",
        "ax0.set_ylabel('loss')\n",
        "# ax0.set_ylim(0, 1)\n",
        "ax0.legend();\n",
        "\n",
        "ax1.plot(epochs, acc, 'b', label='training accuracy')\n",
        "ax1.plot(epochs, val_acc, 'g.', label='validation accuracy')\n",
        "ax1.set_xticks(ticks)\n",
        "ax1.set_xlabel('epochs')\n",
        "ax1.set_ylabel('accuracy')\n",
        "# ax1.set_ylim(-1, 1)\n",
        "ax1.legend();\n",
        "\n",
        "plt.suptitle(\"Training and validation loss and accuracy\", y=1.1, fontsize='xx-large')\n",
        "plt.tight_layout()"
      ],
      "execution_count": null,
      "outputs": [
        {
          "output_type": "display_data",
          "data": {
            "image/png": "[encoded data removed]",
            "text/plain": [
              "<Figure size 720x216 with 2 Axes>"
            ]
          },
          "metadata": {
            "tags": [],
            "needs_background": "light"
          }
        }
      ]
    },
    {
      "cell_type": "code",
      "metadata": {
        "id": "oET5efkkpMG7",
        "colab_type": "code",
        "colab": {}
      },
      "source": [
        "# \"\"\" Sauvegardons les bons modeles qu'on obtient \"\"\"\n",
        "# model.save('DRNN_2D_CIR.h5')"
      ],
      "execution_count": null,
      "outputs": []
    },
    {
      "cell_type": "code",
      "metadata": {
        "id": "2rQzFgxtbv-V",
        "colab_type": "code",
        "colab": {}
      },
      "source": [
        "# # \"\"\" Chargeons le modele \"\"\"\n",
        "# model = keras.models.load_model(\"DRNN_2D_CIR.h5\", custom_objects={\"r2_score\": r2_score}, compile=False)\n",
        "# model.compile(optimizer=keras.optimizers.Adam(1e-5), loss=keras.losses.mse, metrics=[r2_score])"
      ],
      "execution_count": null,
      "outputs": []
    },
    {
      "cell_type": "markdown",
      "metadata": {
        "id": "bOAk_vJQEbx6",
        "colab_type": "text"
      },
      "source": [
        "## Quelques predictions"
      ]
    },
    {
      "cell_type": "code",
      "metadata": {
        "id": "syfpIpvIEcaL",
        "colab_type": "code",
        "colab": {}
      },
      "source": [
        "hat_y_test = model.predict(X_test)"
      ],
      "execution_count": null,
      "outputs": []
    },
    {
      "cell_type": "code",
      "metadata": {
        "id": "AOtOPDldEkmE",
        "colab_type": "code",
        "colab": {
          "base_uri": "https://localhost:8080/",
          "height": 1000
        },
        "outputId": "bcea0606-e091-4430-bb83-4c1c996f1b5a"
      },
      "source": [
        "def print_prediction(hat_y_test, nb):\n",
        "  len_test = len(X_test)\n",
        "  for i in range(0, len_test, len_test//nb):\n",
        "    print(\"target:    \", y_test[i])\n",
        "    print(\"prediction:\", hat_y_test[i], \"\\n\")\n",
        "\n",
        "print_prediction(hat_y_test, 20)"
      ],
      "execution_count": null,
      "outputs": [
        {
          "output_type": "stream",
          "text": [
            "target:     [0.263 0.25  8.44 ]\n",
            "prediction: [0.209 0.262 8.23 ] \n",
            "\n",
            "target:     [0.468 0.579 2.128]\n",
            "prediction: [0.461 0.587 2.092] \n",
            "\n",
            "target:     [0.355 0.645 3.576]\n",
            "prediction: [0.359 0.667 3.016] \n",
            "\n",
            "target:     [0.35  0.65  7.732]\n",
            "prediction: [0.297 0.673 7.869] \n",
            "\n",
            "target:     [0.574 0.405 0.64 ]\n",
            "prediction: [0.538 0.432 0.636] \n",
            "\n",
            "target:     [0.645 0.329 4.208]\n",
            "prediction: [0.653 0.301 4.328] \n",
            "\n",
            "target:     [0.75  0.645 3.576]\n",
            "prediction: [0.687 0.65  3.073] \n",
            "\n",
            "target:     [0.592 0.618 5.472]\n",
            "prediction: [0.583 0.619 6.351] \n",
            "\n",
            "target:     [0.468 0.389 1.816]\n",
            "prediction: [0.447 0.385 1.56 ] \n",
            "\n",
            "target:     [0.2   0.461 9.552]\n",
            "prediction: [0.108 0.504 9.401] \n",
            "\n",
            "target:     [0.592 0.642 6.04 ]\n",
            "prediction: [0.575 0.65  6.024] \n",
            "\n",
            "target:     [0.321 0.616 0.64 ]\n",
            "prediction: [0.442 0.563 0.578] \n",
            "\n",
            "target:     [0.405 0.539 1.24 ]\n",
            "prediction: [0.419 0.522 1.188] \n",
            "\n",
            "target:     [0.637 0.705 2.44 ]\n",
            "prediction: [0.62  0.712 2.595] \n",
            "\n",
            "target:     [0.697 0.276 5.472]\n",
            "prediction: [0.711 0.262 6.366] \n",
            "\n",
            "target:     [0.5   0.35  9.004]\n",
            "prediction: [0.454 0.346 9.36 ] \n",
            "\n",
            "target:     [0.579 0.358 9.64 ]\n",
            "prediction: [0.564 0.38  8.523] \n",
            "\n",
            "target:     [0.65  0.5   3.916]\n",
            "prediction: [0.658 0.5   3.992] \n",
            "\n",
            "target:     [0.405 0.426 0.64 ]\n",
            "prediction: [0.464 0.442 0.615] \n",
            "\n",
            "target:     [0.421 0.461 7.328]\n",
            "prediction: [0.401 0.466 6.317] \n",
            "\n"
          ],
          "name": "stdout"
        }
      ]
    },
    {
      "cell_type": "code",
      "metadata": {
        "id": "5wRZFweqUcLh",
        "colab_type": "code",
        "colab": {
          "base_uri": "https://localhost:8080/",
          "height": 51
        },
        "outputId": "08f7032b-d7f0-4af6-cc17-7ff2271d471d"
      },
      "source": [
        "\"\"\" Le score r2 d'apres Keras \"\"\"\n",
        "\n",
        "print(\"r2 score on predictions: %.2f\"%(100*model.evaluate(X_test, y_test)[1]), \"%\")"
      ],
      "execution_count": null,
      "outputs": [
        {
          "output_type": "stream",
          "text": [
            "13/13 [==============================] - 0s 29ms/step - loss: 0.0923 - r2_score: 0.9856\n",
            "r2 score on predictions: 98.56 %\n"
          ],
          "name": "stdout"
        }
      ]
    },
    {
      "cell_type": "markdown",
      "metadata": {
        "id": "fGKbGINGgGbR",
        "colab_type": "text"
      },
      "source": [
        "Deffinissons une mesure d'accuracy. \n",
        "\n",
        "On suppose la prediction correcte si elle est suffisament proche du label:\n",
        "- au **dizième** près pour la position (suivant x ou y)\n",
        "- à l'**unité** près pour la hauteur "
      ]
    },
    {
      "cell_type": "code",
      "metadata": {
        "id": "5c7idcq8h6gG",
        "colab_type": "code",
        "colab": {
          "base_uri": "https://localhost:8080/",
          "height": 102
        },
        "outputId": "b52f414d-b1ad-4438-8354-37e12668a72b"
      },
      "source": [
        "\"\"\" Calculons l'accuracy \"\"\"\n",
        "\n",
        "condition1 = (abs(y_test[:, 0] - hat_y_test[:, 0]) <= .1)         # postition x\n",
        "condition2 = (abs(y_test[:, 1] - hat_y_test[:, 1]) <= .1)         # postition y\n",
        "condition3 = (abs(y_test[:, 2] - hat_y_test[:, 2]) <= 1)          # hauteur\n",
        "\n",
        "acc_pos_x = 100 * len(hat_y_test[condition1]) / len(hat_y_test)\n",
        "acc_pos_y = 100 * len(hat_y_test[condition2]) / len(hat_y_test)\n",
        "acc_hgt = 100 * len(hat_y_test[condition3]) / len(hat_y_test)\n",
        "acc = 100 * len(hat_y_test[condition1 & condition2 & condition3]) / len(hat_y_test)\n",
        "\n",
        "print(\"position x accuracy: %.2f\"%acc_pos_x, \"%\")\n",
        "print(\"position y accuracy: %.2f\"%acc_pos_y, \"%\")\n",
        "print(\"height accuracy:     %.2f\"%acc_hgt, \"%\")\n",
        "print()\n",
        "print(\"total (hard) accuracy:      %.2f\"%acc, \"%\")"
      ],
      "execution_count": null,
      "outputs": [
        {
          "output_type": "stream",
          "text": [
            "position x accuracy: 93.75 %\n",
            "position y accuracy: 99.00 %\n",
            "height accuracy:     93.25 %\n",
            "\n",
            "total (hard) accuracy:      87.50 %\n"
          ],
          "name": "stdout"
        }
      ]
    },
    {
      "cell_type": "markdown",
      "metadata": {
        "id": "yqY96hSoOPXC",
        "colab_type": "text"
      },
      "source": [
        "## Les pires predictions"
      ]
    },
    {
      "cell_type": "code",
      "metadata": {
        "id": "fFO9tgD1sbcq",
        "colab_type": "code",
        "colab": {
          "base_uri": "https://localhost:8080/",
          "height": 136
        },
        "outputId": "f8d82d46-734f-4f9c-8f7c-2a3597240e13"
      },
      "source": [
        "def norm(vec):\n",
        "  return np.sqrt(vec[0]**2 + vec[1]**2 + (vec[2] / 10)**2)\n",
        "\n",
        "def norm2(vec):\n",
        "  return np.sqrt(vec[0]**2 + vec[1]**2)\n",
        "\n",
        "def print_worst(norm):\n",
        "  worst = [norm(y_test[i] - hat_y_test[i]) for i in range(len(X_test))]\n",
        "  worst_index = np.flip(np.argsort(worst))\n",
        "\n",
        "  print(worst_index[:5])\n",
        "  print()\n",
        "  for i in worst_index[:5]:\n",
        "    print(\"label\", y_test[i], \"    prediction\", hat_y_test[i])\n",
        "\n",
        "\"\"\" On tient compte de tout \"\"\"\n",
        "print_worst(norm)"
      ],
      "execution_count": null,
      "outputs": [
        {
          "output_type": "stream",
          "text": [
            "[215  98 115  89  19]\n",
            "\n",
            "label [0.2  0.65 0.1 ]     prediction [0.579 0.515 0.189]\n",
            "label [0.2   0.2   0.736]     prediction [0.448 0.317 0.411]\n",
            "label [0.321 0.7   0.64 ]     prediction [0.459 0.592 0.592]\n",
            "label [0.2  0.2  3.28]     prediction [0.369 0.188 2.855]\n",
            "label [0.358 0.642 7.096]     prediction [0.317 0.65  5.497]\n"
          ],
          "name": "stdout"
        }
      ]
    },
    {
      "cell_type": "code",
      "metadata": {
        "id": "6WHC4URxORyh",
        "colab_type": "code",
        "colab": {
          "base_uri": "https://localhost:8080/",
          "height": 136
        },
        "outputId": "5070c5d0-e5d1-4ac4-fbfc-08bbbc723957"
      },
      "source": [
        "\"\"\" On tient compte uniquement de la position \"\"\"\n",
        "print_worst(norm2)"
      ],
      "execution_count": null,
      "outputs": [
        {
          "output_type": "stream",
          "text": [
            "[215  98 115  89 278]\n",
            "\n",
            "label [0.2  0.65 0.1 ]     prediction [0.579 0.515 0.189]\n",
            "label [0.2   0.2   0.736]     prediction [0.448 0.317 0.411]\n",
            "label [0.321 0.7   0.64 ]     prediction [0.459 0.592 0.592]\n",
            "label [0.2  0.2  3.28]     prediction [0.369 0.188 2.855]\n",
            "label [0.5   0.8   0.736]     prediction [0.533 0.64  0.688]\n"
          ],
          "name": "stdout"
        }
      ]
    },
    {
      "cell_type": "markdown",
      "metadata": {
        "colab_type": "text",
        "id": "7InMSvPOJFFr"
      },
      "source": [
        "## Les meilleures predictions"
      ]
    },
    {
      "cell_type": "code",
      "metadata": {
        "colab_type": "code",
        "id": "bH5e--StJFFs",
        "colab": {}
      },
      "source": [
        "def print_best(norm):\n",
        "  best = [norm(y_test[i] - hat_y_test[i]) for i in range(len(X_test))]\n",
        "  best_index = np.argsort(best)\n",
        "\n",
        "  print(best_index[:5])\n",
        "  print()\n",
        "  for i in best_index[:5]:\n",
        "    print(\"label\", y_test[i], \"    prediction\", hat_y_test[i])"
      ],
      "execution_count": null,
      "outputs": []
    },
    {
      "cell_type": "code",
      "metadata": {
        "id": "cXhGr5-jOs2l",
        "colab_type": "code",
        "colab": {
          "base_uri": "https://localhost:8080/",
          "height": 136
        },
        "outputId": "c5f443ae-ac86-47c7-8f8d-4a46a3dfc79c"
      },
      "source": [
        "\"\"\" On tient compte de tout \"\"\"\n",
        "print_best(norm)"
      ],
      "execution_count": null,
      "outputs": [
        {
          "output_type": "stream",
          "text": [
            "[243 261 370 361 218]\n",
            "\n",
            "label [0.461 0.566 4.208]     prediction [0.455 0.565 4.198]\n",
            "label [0.461 0.434 4.208]     prediction [0.454 0.433 4.256]\n",
            "label [0.618 0.642 6.04 ]     prediction [0.614 0.651 6.059]\n",
            "label [0.487 0.75  4.84 ]     prediction [0.479 0.744 4.873]\n",
            "label [0.658 0.2   2.44 ]     prediction [0.651 0.192 2.462]\n"
          ],
          "name": "stdout"
        }
      ]
    },
    {
      "cell_type": "code",
      "metadata": {
        "id": "GGDJekgGOr0l",
        "colab_type": "code",
        "colab": {
          "base_uri": "https://localhost:8080/",
          "height": 136
        },
        "outputId": "9268b395-3664-4744-b64d-71d17ded0e8a"
      },
      "source": [
        "\"\"\" On tient compte uniquement de la position \"\"\"\n",
        "print_best(norm2)"
      ],
      "execution_count": null,
      "outputs": [
        {
          "output_type": "stream",
          "text": [
            "[ 92  54 172  63 234]\n",
            "\n",
            "label [0.513 0.276 5.472]     prediction [0.513 0.278 6.363]\n",
            "label [0.566 0.434 4.84 ]     prediction [0.564 0.435 5.202]\n",
            "label [0.539 0.705 6.04 ]     prediction [0.542 0.704 6.6  ]\n",
            "label [0.487 0.516 6.832]     prediction [0.486 0.519 7.648]\n",
            "label [0.461 0.539 3.576]     prediction [0.459 0.535 2.994]\n"
          ],
          "name": "stdout"
        }
      ]
    },
    {
      "cell_type": "markdown",
      "metadata": {
        "id": "MeWbzu3KPlD5",
        "colab_type": "text"
      },
      "source": [
        "## Illustration des correlations"
      ]
    },
    {
      "cell_type": "code",
      "metadata": {
        "id": "I00LKHJCFG7r",
        "colab_type": "code",
        "colab": {}
      },
      "source": [
        "import seaborn as sb"
      ],
      "execution_count": null,
      "outputs": []
    },
    {
      "cell_type": "code",
      "metadata": {
        "id": "eFyJXQpUFUsJ",
        "colab_type": "code",
        "colab": {
          "base_uri": "https://localhost:8080/",
          "height": 404
        },
        "outputId": "ec5e76ec-738c-4c9b-ef82-5d9f01adb52e"
      },
      "source": [
        "\"\"\" La hauteur du crenau \"\"\"\n",
        "df = pd.DataFrame({\"Labels\":y_test[:, 2]})\n",
        "df[\"Prédictions\"] = hat_y_test[:, 2]\n",
        "\n",
        "sb.pairplot(df)"
      ],
      "execution_count": null,
      "outputs": [
        {
          "output_type": "execute_result",
          "data": {
            "text/plain": [
              "<seaborn.axisgrid.PairGrid at 0x7fce16266e80>"
            ]
          },
          "metadata": {
            "tags": []
          },
          "execution_count": 81
        },
        {
          "output_type": "display_data",
          "data": {
            "image/png": "[encoded data removed]",
            "text/plain": [
              "<Figure size 360x360 with 6 Axes>"
            ]
          },
          "metadata": {
            "tags": [],
            "needs_background": "light"
          }
        }
      ]
    },
    {
      "cell_type": "code",
      "metadata": {
        "id": "14TMiMZwHQ6G",
        "colab_type": "code",
        "colab": {
          "base_uri": "https://localhost:8080/",
          "height": 211
        },
        "outputId": "4f48330f-8c14-4981-d56b-d422c1a9a853"
      },
      "source": [
        "\"\"\" La hauteur du crenau \"\"\"\n",
        "ax = df.boxplot(column=[\"Labels\", \"Prédictions\"], return_type='axes', figsize=(4,3), grid=False)"
      ],
      "execution_count": null,
      "outputs": [
        {
          "output_type": "display_data",
          "data": {
            "image/png": "[encoded data removed]",
            "text/plain": [
              "<Figure size 288x216 with 1 Axes>"
            ]
          },
          "metadata": {
            "tags": [],
            "needs_background": "light"
          }
        }
      ]
    },
    {
      "cell_type": "code",
      "metadata": {
        "id": "s4Lq_dCGQhGP",
        "colab_type": "code",
        "colab": {}
      },
      "source": [
        ""
      ],
      "execution_count": null,
      "outputs": []
    }
  ]
}