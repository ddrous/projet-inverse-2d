{
  "nbformat": 4,
  "nbformat_minor": 0,
  "metadata": {
    "colab": {
      "name": "regression2.ipynb",
      "provenance": [],
      "collapsed_sections": [
        "wRQ5KTLOlAUk"
      ],
      "toc_visible": true,
      "include_colab_link": true
    },
    "kernelspec": {
      "display_name": "Python 3",
      "language": "python",
      "name": "python3"
    },
    "language_info": {
      "codemirror_mode": {
        "name": "ipython",
        "version": 3
      },
      "file_extension": ".py",
      "mimetype": "text/x-python",
      "name": "python",
      "nbconvert_exporter": "python",
      "pygments_lexer": "ipython3",
      "version": "3.7.6"
    },
    "accelerator": "GPU"
  },
  "cells": [
    {
      "cell_type": "markdown",
      "metadata": {
        "id": "view-in-github",
        "colab_type": "text"
      },
      "source": [
        "<a href=\"https://colab.research.google.com/github/desmond-rn/projet-inverse-2d/blob/master/src/notebook/Regression90x90.ipynb\" target=\"_parent\"><img src=\"https://colab.research.google.com/assets/colab-badge.svg\" alt=\"Open In Colab\"/></a>"
      ]
    },
    {
      "cell_type": "markdown",
      "metadata": {
        "colab_type": "text",
        "id": "qxCUfRNWGGvi"
      },
      "source": [
        "L'objectif est de prédire la position et la hauteur d'un saut de densité (créneau) $\\rho$, à partir de $E_l, E_d, E_r, E_u$ (energie des photons), $F_l, F_d, F_r, F_u$ (flux des photons), et $T_l, T_d, T_r, T_u$ (temperature du milieu) sur les bords du domaine en tout temps."
      ]
    },
    {
      "cell_type": "code",
      "metadata": {
        "id": "vU6rE5DnlATL",
        "colab_type": "code",
        "colab": {}
      },
      "source": [
        "%reset -f"
      ],
      "execution_count": null,
      "outputs": []
    },
    {
      "cell_type": "code",
      "metadata": {
        "colab_type": "code",
        "id": "JtAq0O5XGELH",
        "colab": {}
      },
      "source": [
        "import matplotlib.pyplot as plt\n",
        "import matplotlib.image as mpimg\n",
        "import numpy as np\n",
        "import pandas as pd\n",
        "import keras\n",
        "import random\n",
        "import sklearn\n",
        "\n",
        "from ast import literal_eval as l_eval"
      ],
      "execution_count": null,
      "outputs": []
    },
    {
      "cell_type": "code",
      "metadata": {
        "id": "34nIRiVYjixy",
        "colab_type": "code",
        "colab": {}
      },
      "source": [
        "from keras import layers\n",
        "from keras import models\n",
        "from keras import utils \n",
        "from keras import losses\n",
        "from keras import metrics\n",
        "from keras import optimizers\n",
        "from keras import backend as K\n",
        "from sklearn import metrics"
      ],
      "execution_count": null,
      "outputs": []
    },
    {
      "cell_type": "code",
      "metadata": {
        "id": "_613bT0QlATU",
        "colab_type": "code",
        "colab": {}
      },
      "source": [
        "np.set_printoptions(precision = 3)"
      ],
      "execution_count": null,
      "outputs": []
    },
    {
      "cell_type": "code",
      "metadata": {
        "id": "pCjoUMLNoH5p",
        "colab_type": "code",
        "colab": {
          "base_uri": "https://localhost:8080/",
          "height": 35
        },
        "outputId": "6541f2b1-19f6-4386-a84e-a2eae3dae734"
      },
      "source": [
        "\"\"\" DEPUIS GOOGLE DRIVE \"\"\"\n",
        "\n",
        "# from google.colab import drive\n",
        "# drive.mount('/gdrive')"
      ],
      "execution_count": null,
      "outputs": [
        {
          "output_type": "execute_result",
          "data": {
            "application/vnd.google.colaboratory.intrinsic+json": {
              "type": "string"
            },
            "text/plain": [
              "' DEPUIS GOOGLE DRIVE '"
            ]
          },
          "metadata": {
            "tags": []
          },
          "execution_count": 15
        }
      ]
    },
    {
      "cell_type": "code",
      "metadata": {
        "colab_type": "code",
        "id": "YqjYwCcxt5Bw",
        "colab": {
          "base_uri": "https://localhost:8080/",
          "height": 119
        },
        "outputId": "9dca7ca7-0c1c-46ba-fa90-a4f56451790b"
      },
      "source": [
        "%cd ~\n",
        "%cd /gdrive/My\\ Drive\n",
        "%cd Colab\\ Notebooks/Projet\\ inverse/2D/Apprentissage2/Data\n",
        "print()\n",
        "\n",
        "%ls"
      ],
      "execution_count": null,
      "outputs": [
        {
          "output_type": "stream",
          "text": [
            "/root\n",
            "/gdrive/My Drive\n",
            "/gdrive/My Drive/Colab Notebooks/Projet inverse/2D/Apprentissage2/Data\n",
            "\n",
            "part10.sds  part2.sds  part4.sds  part6.sds  part8.sds\n",
            "part1.sds   part3.sds  part5.sds  part7.sds  part9.sds\n"
          ],
          "name": "stdout"
        }
      ]
    },
    {
      "cell_type": "markdown",
      "metadata": {
        "colab_type": "text",
        "id": "iNXZiUPPFgj7"
      },
      "source": [
        "# PREPARATION"
      ]
    },
    {
      "cell_type": "markdown",
      "metadata": {
        "colab_type": "text",
        "id": "lCNMvubIgyJW"
      },
      "source": [
        "## Chargement des données"
      ]
    },
    {
      "cell_type": "markdown",
      "metadata": {
        "colab_type": "text",
        "id": "1SvU-Ai9rbiR"
      },
      "source": [
        "Les donnees contiennent contiennent $\\rho$, $E$, $F$, et $T$. Elles sont sauvegardées dans un format binaire intitulé **SDS** (source-densité-signal). La version 01 de ce format est structurée dans l'ordre ci-après (l'en-tete du fichier est compris entre les lignes horizontales, et le reste represente la structure d'une des simulations presente dans le fichier):\n",
        "\n",
        "---\n",
        "- **`5`** octets pour la constante magique **sds01**\n",
        "- __`2`__ octets pour le nombre de simulations presentes dans le fichier\n",
        "- __`2`__ octets pour `N` (nombre de mailles en horizontale)\n",
        "- __`2`__ octets pour `M` (nombre de mailles en verticale)\n",
        "- __`2`__ octets pour `step_count` (nombre d'iterations en temps)\n",
        "- **`1`** octet pour le charactere 0xA (newline)\n",
        "---\n",
        "- **`1`** octet pour le bord sur lequel se trouve la source: (0 pour up, 1 pour down, 2 pour left, 3 pour right, et -1 si aucun de ces 4)\n",
        "- **`1`** octet pour la position de la source sur son bord: (0 pour (0.1, 0.3), 1 pour (0.3, 0.5), 2 pour (0.5, 0.7), 3 pour (0.7, 0.9), et -1 si aucun de ces 4)\n",
        "- __`4 * 4`__ octets pour les attributs du crenau de densite: 4 octets (float) pour l'abcisse, 4 pour l'ordonee, 4 pour la valeur de la densite en dehors du crenau, et 4 pour la  hauteur du crenau.\n",
        "- **`step_count * N * 4`** octets pour E_up\n",
        "- idem pour F_up\n",
        "- idem pour T_up\n",
        "- **`step_count * N * 4`** octets pour E_down\n",
        "- idem pour F_up\n",
        "- idem pour T_up\n",
        "- **`step_count * M * 4`** octets pour E_left\n",
        "- idem pour F_left\n",
        "- idem pour T_left\n",
        "- **`step_count * M * 4`** octets pour E_right\n",
        "- idem pour F_right\n",
        "- idem pour T_right\n",
        "- **`1`** octet pour le charactere 0xA (newline)"
      ]
    },
    {
      "cell_type": "code",
      "metadata": {
        "id": "nopK185rxObh",
        "colab_type": "code",
        "colab": {}
      },
      "source": [
        "\"\"\" Fonction pour lire le format binaire SDS \"\"\"\n",
        "\n",
        "def read_sds_version01(file_path):\n",
        "\n",
        "  file = open(file_path, \"rb\")\n",
        "\n",
        "  sds_version = file.read(5)\n",
        "  assert(sds_version == b'sds01')\n",
        "\n",
        "  simu_count = int.from_bytes(file.read(2), byteorder='little', signed=False)\n",
        "  N = int.from_bytes(file.read(2), byteorder='little', signed=False)\n",
        "  M = int.from_bytes(file.read(2), byteorder='little', signed=False)\n",
        "  step_count = int.from_bytes(file.read(2), byteorder='little', signed=False)\n",
        "\n",
        "  assert(file.read(1) == b'\\n')\n",
        "\n",
        "  X = np.zeros(shape=(simu_count // 4, step_count, N, 4, 4, 3), dtype=np.float32)\n",
        "  y = np.zeros(shape=(simu_count // 4, 4), dtype=np.float32)\n",
        "\n",
        "  index = 0\n",
        "  pos_count = 0\n",
        "  while True:\n",
        "    next_byte = file.read(1)\n",
        "    if next_byte == b'':\n",
        "      break\n",
        "\n",
        "    source_edge = int.from_bytes(next_byte, byteorder='little', signed=True)\n",
        "    source_pos = int.from_bytes(file.read(1), byteorder='little', signed=True)\n",
        "    assert (source_edge != -1 and source_pos != -1)\n",
        "    # print(\"index\", index)\n",
        "    # print(\"source \", source_edge, source_pos)\n",
        "\n",
        "    rho_attr = file.read(4*4)\n",
        "    y[index, :] = np.frombuffer(rho_attr, dtype=np.float32)\n",
        "\n",
        "    for e in range(4):\n",
        "      for ch in range(3):\n",
        "        signal = file.read(step_count*N*4)\n",
        "        X[index, :, :, e, source_pos, ch] = np.frombuffer(signal, dtype=np.float32).reshape(step_count, N)\n",
        "\n",
        "    assert(file.read(1) == b'\\n')\n",
        "    pos_count += 1\n",
        "    if pos_count == 4:\n",
        "      index += 1\n",
        "      pos_count = 0\n",
        "\n",
        "  return X, y"
      ],
      "execution_count": null,
      "outputs": []
    },
    {
      "cell_type": "markdown",
      "metadata": {
        "id": "qeHpM2WuCPR2",
        "colab_type": "text"
      },
      "source": [
        "L'expression des opacites pour ces simulation est $\\sigma_a = \\sigma_c = T\\times(10\\times\\rho)^3$ afin d'obtenir un maximum de diffusion de l'onde au niveau de l'obstacle tout en se propageant en dehors de l'obstacle."
      ]
    },
    {
      "cell_type": "markdown",
      "metadata": {
        "id": "o2ProToG8vvJ",
        "colab_type": "text"
      },
      "source": [
        "La hauteur du crenau vaut a chaque fois $1$, et $4$ sources sont placées sur le bord gauche du domaine. On a dans chaque partie $4 \\times 40 = 160$ positions. \n",
        "\n",
        "- **PART 1**: `[0.2, ..., 0.246] x [0.3, ..., 0.7]`  \n",
        "\n",
        "- **PART 2**: `[0.262, ..., 0.308] x [0.3,  ..., 0.7]`\n",
        "\n",
        "- **PART 3**: `[0.323, ..., 0.369] x [0.3,  ..., 0.7]`\n",
        "\n",
        "- **PART 4**: `[0.385, ..., 0.431] x [0.3,  ..., 0.7]`\n",
        "\n",
        "- **PART 5**: `[0.446, ..., 0.492] x [0.3, ..., 0.7]`\n",
        "\n",
        "- **PART 6**: `[0.508, ..., 0.554] x [0.3, ..., 0.7]`\n",
        "\n",
        "- **PART 7**: `[0.569, ..., 0.615] x [0.3, ..., 0.7]`\n",
        "\n",
        "- **PART 8**: `[0.631, ..., 0.677] x [0.3, ..., 0.7]`\n",
        "\n",
        "- **PART 9**: `[0.292, ..., 0.738] x [0.3, ..., 0.7]`\n",
        "\n",
        "- **PART 10**: `[0.754, ..., 0.8] x [0.3, ..., 0.7]`\n",
        "\n"
      ]
    },
    {
      "cell_type": "markdown",
      "metadata": {
        "id": "OstoZN1tzDVk",
        "colab_type": "text"
      },
      "source": [
        "On a aut total 10 parties contenant 160 positions chacunes. Aussi, chaque simulation a necessite 168 iterations sur un maillage de 28 x 28.  On peut donc creer $X$ sous la forme `(10, 160, 168, 28, 4, 4, 3)`.\n",
        "- le premier 4 represente le nombre de bords du domaine\n",
        "- le deuxieme 4 represente le nombre de sources differentes sur le bord gauche\n",
        "- le 3 represente le nombre de canaux ($E$, $F$ et $T$).\n",
        "\n",
        "On cree $y$ sous la forme `(1600, 4)`. Le 4 represente le nombre d'attributs du crenau sur la densite. Seuls l'abcisse et l'ordonee du crenau nous intéressent (1er et 2e attributs)."
      ]
    },
    {
      "cell_type": "code",
      "metadata": {
        "id": "BazpSByby7Zw",
        "colab_type": "code",
        "colab": {
          "base_uri": "https://localhost:8080/",
          "height": 85
        },
        "outputId": "ff1b1182-2f47-4dbb-d2a9-1c56cfff2891"
      },
      "source": [
        "n_parts = 10\n",
        "n_pos = 160\n",
        "step_count = 168\n",
        "N = 28 # N=M\n",
        "n_edges = 4\n",
        "n_sources = 4\n",
        "n_channels = 3\n",
        "\n",
        "n_attr = 4\n",
        "\n",
        "X = np.zeros(shape=(n_parts, n_pos, step_count, N, n_edges, n_sources, n_channels), dtype=np.float32)\n",
        "y = np.zeros(shape=(n_parts, n_pos, n_attr), dtype=np.float32)\n",
        "\n",
        "for i in range(n_parts):\n",
        "  X[i], y[i] = read_sds_version01(\"part\"+str(i+1)+\".sds\")\n",
        "\n",
        "print(\"Les dimensions preliminaires:\\n\")\n",
        "print(\"X shape:\", X.shape)\n",
        "print(\"y shape:\", y.shape)"
      ],
      "execution_count": null,
      "outputs": [
        {
          "output_type": "stream",
          "text": [
            "Les dimensions preliminaires:\n",
            "\n",
            "X shape: (10, 160, 168, 28, 4, 4, 3)\n",
            "y shape: (10, 160, 4)\n"
          ],
          "name": "stdout"
        }
      ]
    },
    {
      "cell_type": "markdown",
      "metadata": {
        "id": "wRQ5KTLOlAUk",
        "colab_type": "text"
      },
      "source": [
        "## Separation des données"
      ]
    },
    {
      "cell_type": "markdown",
      "metadata": {
        "id": "9THXM3pa5ZLs",
        "colab_type": "text"
      },
      "source": [
        "Avant de separer en train, val et test, il faut normaliser et reshape X. Il faut aussi rendomiser X et y."
      ]
    },
    {
      "cell_type": "code",
      "metadata": {
        "id": "8SJimB4a7jg3",
        "colab_type": "code",
        "colab": {}
      },
      "source": [
        "\"\"\" On fait une simple normalisation des donnnees. Division par le maximum de valeur absolue de sur chaque canal de X \"\"\"\n",
        "\n",
        "# Une fonction pour detecter le min et le max d'un tenseur en excluant les NaN\n",
        "def min_max(mat, dim=2):\n",
        "  mat_min = mat\n",
        "  for i in range(dim-1, -1, -1):\n",
        "      mat_min = np.nanmin(mat_min, axis=i)\n",
        "      \n",
        "  mat_max = mat\n",
        "  for i in range(dim-1, -1, -1):\n",
        "      mat_max = np.nanmax(mat_max, axis=i)\n",
        "\n",
        "  return mat_min, mat_max\n",
        "\n",
        "min_E, max_E = min_max(np.abs(X[:, :, :, :, :, :, 0]), 3)\n",
        "min_F, max_F = min_max(np.abs(X[:, :, :, :, :, :, 1]), 3)\n",
        "min_T, max_T = min_max(np.abs(X[:, :, :, :, :, :, 2]), 3)\n",
        "\n",
        "X[:, :, :, :, :, :, 0] = X[:, :, :, :, :, :, 0] / max_E\n",
        "X[:, :, :, :, :, :, 1] = X[:, :, :, :, :, :, 1] / max_F\n",
        "X[:, :, :, :, :, :, 2] = X[:, :, :, :, :, :, 2] / max_T"
      ],
      "execution_count": null,
      "outputs": []
    },
    {
      "cell_type": "code",
      "metadata": {
        "id": "dY_IfX-uJrUM",
        "colab_type": "code",
        "colab": {}
      },
      "source": [
        "\"\"\" On reshape X sous la forme (n_pos_total, step_count, N, 4*4*3) \"\"\"\n",
        "X = X.reshape((n_parts, n_pos, step_count, N, n_edges * n_sources * n_channels))\n",
        "\n",
        "X = X.reshape((-1, step_count, N, n_edges * n_sources * n_channels))"
      ],
      "execution_count": null,
      "outputs": []
    },
    {
      "cell_type": "code",
      "metadata": {
        "id": "YJg44GbgJrJt",
        "colab_type": "code",
        "colab": {
          "base_uri": "https://localhost:8080/",
          "height": 34
        },
        "outputId": "51d06360-0d47-4664-b5c9-0ec4e6b14c13"
      },
      "source": [
        "n_samples = len(X)\n",
        "print(\"X shape =\", X.shape)"
      ],
      "execution_count": null,
      "outputs": [
        {
          "output_type": "stream",
          "text": [
            "X shape = (1600, 168, 28, 48)\n"
          ],
          "name": "stdout"
        }
      ]
    },
    {
      "cell_type": "code",
      "metadata": {
        "id": "B4lrEinOrGXB",
        "colab_type": "code",
        "colab": {}
      },
      "source": [
        "\"\"\" verifier qu'aucun des X n'est completement vide (null)  \"\"\"\n",
        "for i in range(n_samples):\n",
        "  assert np.all(X[i] == 0) == False"
      ],
      "execution_count": null,
      "outputs": []
    },
    {
      "cell_type": "code",
      "metadata": {
        "id": "qY-TxVKo8VSN",
        "colab_type": "code",
        "colab": {}
      },
      "source": [
        "\"\"\" On reshape y et on extrait juste ses deux premieres colones \"\"\"\n",
        "y = y.reshape((-1, n_attr))\n",
        "y = y[:, :2]"
      ],
      "execution_count": null,
      "outputs": []
    },
    {
      "cell_type": "code",
      "metadata": {
        "id": "gIxdAqnUIQ5_",
        "colab_type": "code",
        "colab": {
          "base_uri": "https://localhost:8080/",
          "height": 34
        },
        "outputId": "e8f586ee-7020-4751-ac65-3a6a5874e235"
      },
      "source": [
        "n_targets = len(y)\n",
        "print(\"y shape =\", y.shape)"
      ],
      "execution_count": null,
      "outputs": [
        {
          "output_type": "stream",
          "text": [
            "y shape = (1600, 2)\n"
          ],
          "name": "stdout"
        }
      ]
    },
    {
      "cell_type": "code",
      "metadata": {
        "id": "losdBCe1-RpU",
        "colab_type": "code",
        "colab": {}
      },
      "source": [
        "\"\"\" On fait une permutation des entrees et sorties \"\"\"\n",
        "shuffle = np.arange(n_samples)\n",
        "random.shuffle(shuffle)\n",
        "\n",
        "X_copy = X.copy()\n",
        "y_copy = y.copy()\n",
        "\n",
        "for i in range(n_samples):\n",
        "  X_copy[i] = X[shuffle[i]]\n",
        "  y_copy[i] = y[shuffle[i]]\n",
        "\n",
        "X = X_copy\n",
        "y = y_copy"
      ],
      "execution_count": null,
      "outputs": []
    },
    {
      "cell_type": "code",
      "metadata": {
        "id": "VrxeQ1TblAUm",
        "colab_type": "code",
        "colab": {
          "base_uri": "https://localhost:8080/",
          "height": 51
        },
        "outputId": "1339c118-761e-43fb-c2aa-c02aec686ec9"
      },
      "source": [
        "len_train, len_val = 7*len(X)//10, 2*len(X)//10\n",
        "\n",
        "X_train = X[:len_train]\n",
        "X_val = X[len_train:len_train+len_val]\n",
        "X_test = X[len_train+len_val:]\n",
        "\n",
        "y_train = y[:len_train]\n",
        "y_val = y[len_train:len_train+len_val]\n",
        "y_test = y[len_train+len_val:]\n",
        "\n",
        "print(\"X shapes =\", np.shape(X_train), np.shape(X_val), np.shape(X_test))\n",
        "print(\"y shapes =\", np.shape(y_train), np.shape(y_val), np.shape(y_test))"
      ],
      "execution_count": null,
      "outputs": [
        {
          "output_type": "stream",
          "text": [
            "X shapes = (1120, 168, 28, 48) (320, 168, 28, 48) (160, 168, 28, 48)\n",
            "y shapes = (1120, 2) (320, 2) (160, 2)\n"
          ],
          "name": "stdout"
        }
      ]
    },
    {
      "cell_type": "code",
      "metadata": {
        "id": "Infe9tPKaIlV",
        "colab_type": "code",
        "colab": {}
      },
      "source": [
        "\"\"\" Sauvegarde de ce jeu de donnees pour un prochain apprentissage \"\"\"\n",
        "np.save(\"../Labels/train\", y_train)\n",
        "np.save(\"../Labels/val\", y_val)\n",
        "np.save(\"../Labels/test\", y_test)"
      ],
      "execution_count": null,
      "outputs": []
    },
    {
      "cell_type": "markdown",
      "metadata": {
        "id": "yNYOqVPbKta0",
        "colab_type": "text"
      },
      "source": [
        "## Chargement au format Numpy"
      ]
    },
    {
      "cell_type": "code",
      "metadata": {
        "id": "gcgiuco2RzGr",
        "colab_type": "code",
        "colab": {
          "base_uri": "https://localhost:8080/",
          "height": 34
        },
        "outputId": "596d81ae-0fdf-453c-95e0-91583fb4514d"
      },
      "source": [
        "%cd ..\n",
        "print()\n",
        "%ls"
      ],
      "execution_count": null,
      "outputs": [
        {
          "output_type": "stream",
          "text": [
            "/gdrive/My Drive/Colab Notebooks/Projet inverse/2D/Apprentissage2\n"
          ],
          "name": "stdout"
        }
      ]
    },
    {
      "cell_type": "code",
      "metadata": {
        "id": "mNwYeaBULofX",
        "colab_type": "code",
        "colab": {}
      },
      "source": [
        "\"\"\" Les constantes \"\"\"\n",
        "n_parts = 10\n",
        "n_pos = 160\n",
        "step_count = 168\n",
        "N = 28 # N=M\n",
        "n_edges = 4\n",
        "n_sources = 4\n",
        "n_channels = 3\n",
        "\n",
        "n_attr = 4"
      ],
      "execution_count": null,
      "outputs": []
    },
    {
      "cell_type": "code",
      "metadata": {
        "id": "Ywhh8rlCJZXY",
        "colab_type": "code",
        "colab": {}
      },
      "source": [
        "\"\"\" Chargement des donnnees \"\"\"\n",
        "\n",
        "X_train = np.load(\"Samples/train.npy\")\n",
        "X_val = np.load(\"Samples/val.npy\")\n",
        "X_test = np.load(\"Samples/test.npy\")\n",
        "\n",
        "y_train = np.load(\"Labels/train.npy\")\n",
        "y_val = np.load(\"Labels/val.npy\")\n",
        "y_test = np.load(\"Labels/test.npy\")"
      ],
      "execution_count": null,
      "outputs": []
    },
    {
      "cell_type": "code",
      "metadata": {
        "id": "gsSn5NKsLKHW",
        "colab_type": "code",
        "colab": {
          "base_uri": "https://localhost:8080/",
          "height": 85
        },
        "outputId": "a5c5f4e9-2b9a-459d-a516-425350827964"
      },
      "source": [
        "print(\"Les dimensions des donnees:\\n\")\n",
        "print(\"X shapes:\", X_train.shape, X_val.shape, X_test.shape)\n",
        "print(\"y shapes:\", y_train.shape, y_val.shape, y_test.shape)"
      ],
      "execution_count": null,
      "outputs": [
        {
          "output_type": "stream",
          "text": [
            "Les dimensions des donnees:\n",
            "\n",
            "X shapes: (1120, 168, 28, 48) (320, 168, 28, 48) (160, 168, 28, 48)\n",
            "y shapes: (1120, 2) (320, 2) (160, 2)\n"
          ],
          "name": "stdout"
        }
      ]
    },
    {
      "cell_type": "markdown",
      "metadata": {
        "id": "hjukTxjUlAUr",
        "colab_type": "text"
      },
      "source": [
        "# APPRENTISSAGE"
      ]
    },
    {
      "cell_type": "markdown",
      "metadata": {
        "id": "QWnwry9dUzyk",
        "colab_type": "text"
      },
      "source": [
        "## Configuration du modèle "
      ]
    },
    {
      "cell_type": "code",
      "metadata": {
        "id": "3_STaXV3i0w2",
        "colab_type": "code",
        "colab": {
          "base_uri": "https://localhost:8080/",
          "height": 493
        },
        "outputId": "9476a0e6-5ae6-4cc1-a5ed-7334767db510"
      },
      "source": [
        "\"\"\" Un modèle convolutif \"\"\"\n",
        "model = models.Sequential(name=\"Convoluted_DRNN\")\n",
        "\n",
        "kernel_size = (6, 2)\n",
        "strides = (1, 1)\n",
        "\n",
        "model.add(layers.Conv2D(64, kernel_size, strides=strides, activation='relu', input_shape=(step_count, N, n_edges * n_sources * n_channels)))\n",
        "model.add(layers.Conv2D(32, kernel_size, strides=strides, activation='relu'))\n",
        "\n",
        "# model.add(layers.MaxPooling2D())\n",
        "\n",
        "model.add(layers.Conv2D(64, kernel_size, strides=strides, activation='relu'))\n",
        "model.add(layers.Conv2D(64, kernel_size, strides=strides, activation='relu'))\n",
        "\n",
        "# model.add(layers.MaxPooling2D())\n",
        "\n",
        "model.add(layers.Conv2D(128, kernel_size, strides=strides, activation='relu'))\n",
        "model.add(layers.Conv2D(128, kernel_size, strides=strides, activation='relu'))\n",
        "\n",
        "model.add(layers.Flatten())\n",
        "\n",
        "model.add(layers.Dense(500, activation='relu'))\n",
        "model.add(layers.Dense(50, activation='relu'))\n",
        "\n",
        "model.add(layers.Dense(2, activation='linear'))\n",
        "\n",
        "model.summary()"
      ],
      "execution_count": null,
      "outputs": [
        {
          "output_type": "stream",
          "text": [
            "Model: \"Convoluted_DRNN\"\n",
            "_________________________________________________________________\n",
            "Layer (type)                 Output Shape              Param #   \n",
            "=================================================================\n",
            "conv2d_12 (Conv2D)           (None, 163, 27, 64)       36928     \n",
            "_________________________________________________________________\n",
            "conv2d_13 (Conv2D)           (None, 158, 26, 32)       24608     \n",
            "_________________________________________________________________\n",
            "conv2d_14 (Conv2D)           (None, 153, 25, 64)       24640     \n",
            "_________________________________________________________________\n",
            "conv2d_15 (Conv2D)           (None, 148, 24, 64)       49216     \n",
            "_________________________________________________________________\n",
            "conv2d_16 (Conv2D)           (None, 143, 23, 128)      98432     \n",
            "_________________________________________________________________\n",
            "conv2d_17 (Conv2D)           (None, 138, 22, 128)      196736    \n",
            "_________________________________________________________________\n",
            "flatten_2 (Flatten)          (None, 388608)            0         \n",
            "_________________________________________________________________\n",
            "dense_6 (Dense)              (None, 500)               194304500 \n",
            "_________________________________________________________________\n",
            "dense_7 (Dense)              (None, 50)                25050     \n",
            "_________________________________________________________________\n",
            "dense_8 (Dense)              (None, 2)                 102       \n",
            "=================================================================\n",
            "Total params: 194,760,212\n",
            "Trainable params: 194,760,212\n",
            "Non-trainable params: 0\n",
            "_________________________________________________________________\n"
          ],
          "name": "stdout"
        }
      ]
    },
    {
      "cell_type": "markdown",
      "metadata": {
        "id": "cNhLkiMumSys",
        "colab_type": "text"
      },
      "source": [
        "Pour la compilation:\n",
        "- on utlise l'optimiseur Adam\n",
        "- on utlise la `mse` pour fonction loss\n",
        "- on observe le coefficient de determination"
      ]
    },
    {
      "cell_type": "code",
      "metadata": {
        "id": "2N9K_GfhEFi0",
        "colab_type": "code",
        "colab": {}
      },
      "source": [
        "\"\"\" Pour calculer le score r^2\"\"\"\n",
        "def r2_score(y_true, y_pred):\n",
        "    SS_res =  K.sum(K.square(y_true - y_pred), axis=-1) \n",
        "    SS_tot = K.sum(K.square(y_true - K.mean(y_true)), axis=-1)\n",
        "    return 1.0 - SS_res/(SS_tot + K.epsilon())"
      ],
      "execution_count": null,
      "outputs": []
    },
    {
      "cell_type": "code",
      "metadata": {
        "id": "3_1MeR4_mKoU",
        "colab_type": "code",
        "colab": {}
      },
      "source": [
        "model.compile(optimizer=keras.optimizers.Adam(1e-5), \n",
        "              loss=keras.losses.mse,\n",
        "              # metrics=[keras.metrics.mean_absolute_error]\n",
        "              # metrics=[keras.metrics.MeanAbsolutePercentageError(name=\"accuracy\", dtype=None)]\n",
        "              # metrics=[keras.metrics.CosineSimilarity(name=\"accuracy\", dtype=None, axis=-1)]\n",
        "              metrics=[r2_score]\n",
        "              )"
      ],
      "execution_count": null,
      "outputs": []
    },
    {
      "cell_type": "code",
      "metadata": {
        "id": "D1rLlhVmOCTu",
        "colab_type": "code",
        "colab": {}
      },
      "source": [
        "\"\"\" Pour une decroissance du taux d'apprentissage \"\"\"\n",
        "def scheduler(epoch, lr):\n",
        "  if epoch == 0:\n",
        "    return 0.001\n",
        "  else:\n",
        "    return 0.8 * lr\n",
        "\n",
        "callback = keras.callbacks.LearningRateScheduler(scheduler)"
      ],
      "execution_count": null,
      "outputs": []
    },
    {
      "cell_type": "code",
      "metadata": {
        "id": "ntPImp-8T3wd",
        "colab_type": "code",
        "colab": {}
      },
      "source": [
        "early_stopping = keras.callbacks.EarlyStopping(patience=10, monitor=\"r2_score\", mode=\"max\", restore_best_weights=True)"
      ],
      "execution_count": null,
      "outputs": []
    },
    {
      "cell_type": "code",
      "metadata": {
        "id": "Tze2I2AOmX7M",
        "colab_type": "code",
        "colab": {
          "base_uri": "https://localhost:8080/",
          "height": 751
        },
        "outputId": "76dcbef7-989f-4291-f255-4df2dca5aeb7"
      },
      "source": [
        "\"\"\" Technique d'aumentation du batch size \"\"\"\n",
        "\n",
        "history = model.fit(X_train,\n",
        "                    y_train,\n",
        "                    epochs=100,\n",
        "                    batch_size=32,\n",
        "                    callbacks=[early_stopping],\n",
        "                    validation_data=(X_val, y_val))"
      ],
      "execution_count": null,
      "outputs": [
        {
          "output_type": "stream",
          "text": [
            "Epoch 1/100\n",
            " 2/35 [>.............................] - ETA: 5s - loss: 0.1506 - r2_score: -12.9616WARNING:tensorflow:Callbacks method `on_train_batch_end` is slow compared to the batch time (batch time: 0.0294s vs `on_train_batch_end` time: 0.2762s). Check your callbacks.\n",
            "35/35 [==============================] - ETA: 0s - loss: 0.0258 - r2_score: -1.8362WARNING:tensorflow:Callbacks method `on_test_batch_end` is slow compared to the batch time (batch time: 0.0144s vs `on_test_batch_end` time: 0.0493s). Check your callbacks.\n",
            "35/35 [==============================] - 10s 289ms/step - loss: 0.0258 - r2_score: -1.8362 - val_loss: 0.0035 - val_r2_score: 0.8554\n",
            "Epoch 2/100\n",
            "35/35 [==============================] - 10s 283ms/step - loss: 0.0011 - r2_score: 0.7567 - val_loss: 3.8661e-04 - val_r2_score: 0.9734\n",
            "Epoch 3/100\n",
            "35/35 [==============================] - 10s 281ms/step - loss: 2.3801e-04 - r2_score: 0.9410 - val_loss: 1.8767e-04 - val_r2_score: 0.9821\n",
            "Epoch 4/100\n",
            "35/35 [==============================] - 10s 285ms/step - loss: 1.4865e-04 - r2_score: 0.9804 - val_loss: 1.4263e-04 - val_r2_score: 0.9850\n",
            "Epoch 5/100\n",
            "35/35 [==============================] - 10s 280ms/step - loss: 1.2320e-04 - r2_score: 0.9431 - val_loss: 1.2182e-04 - val_r2_score: 0.9855\n",
            "Epoch 6/100\n",
            "35/35 [==============================] - 10s 286ms/step - loss: 1.0811e-04 - r2_score: 0.9836 - val_loss: 1.0252e-04 - val_r2_score: 0.9883\n",
            "Epoch 7/100\n",
            "35/35 [==============================] - 10s 280ms/step - loss: 1.0425e-04 - r2_score: 0.9745 - val_loss: 1.2039e-04 - val_r2_score: 0.9844\n",
            "Epoch 8/100\n",
            "35/35 [==============================] - 10s 280ms/step - loss: 1.1505e-04 - r2_score: 0.9812 - val_loss: 9.1043e-05 - val_r2_score: 0.9895\n",
            "Epoch 9/100\n",
            "35/35 [==============================] - 10s 280ms/step - loss: 1.2279e-04 - r2_score: 0.9743 - val_loss: 8.2157e-05 - val_r2_score: 0.9893\n",
            "Epoch 10/100\n",
            "35/35 [==============================] - 10s 286ms/step - loss: 1.1286e-04 - r2_score: 0.9838 - val_loss: 1.9803e-04 - val_r2_score: 0.9736\n",
            "Epoch 11/100\n",
            "35/35 [==============================] - 10s 279ms/step - loss: 1.0559e-04 - r2_score: 0.9698 - val_loss: 9.9565e-05 - val_r2_score: 0.9879\n",
            "Epoch 12/100\n",
            "35/35 [==============================] - 10s 280ms/step - loss: 9.9671e-05 - r2_score: 0.9812 - val_loss: 7.8991e-05 - val_r2_score: 0.9898\n",
            "Epoch 13/100\n",
            "35/35 [==============================] - 10s 279ms/step - loss: 1.1267e-04 - r2_score: 0.9772 - val_loss: 1.1481e-04 - val_r2_score: 0.9851\n",
            "Epoch 14/100\n",
            "35/35 [==============================] - 10s 281ms/step - loss: 9.9553e-05 - r2_score: 0.9704 - val_loss: 1.0576e-04 - val_r2_score: 0.9848\n",
            "Epoch 15/100\n",
            "35/35 [==============================] - 10s 280ms/step - loss: 1.0260e-04 - r2_score: 0.9834 - val_loss: 7.2196e-05 - val_r2_score: 0.9910\n",
            "Epoch 16/100\n",
            "35/35 [==============================] - 10s 280ms/step - loss: 1.1507e-04 - r2_score: 0.9713 - val_loss: 1.2554e-04 - val_r2_score: 0.9808\n",
            "Epoch 17/100\n",
            "35/35 [==============================] - 10s 281ms/step - loss: 1.1526e-04 - r2_score: 0.9615 - val_loss: 1.1065e-04 - val_r2_score: 0.9860\n",
            "Epoch 18/100\n",
            "35/35 [==============================] - 10s 280ms/step - loss: 1.2560e-04 - r2_score: 0.9661 - val_loss: 1.1130e-04 - val_r2_score: 0.9831\n",
            "Epoch 19/100\n",
            "35/35 [==============================] - 10s 280ms/step - loss: 1.2785e-04 - r2_score: 0.9606 - val_loss: 1.8856e-04 - val_r2_score: 0.9739\n",
            "Epoch 20/100\n",
            "35/35 [==============================] - 10s 283ms/step - loss: 1.2038e-04 - r2_score: 0.9819 - val_loss: 1.8560e-04 - val_r2_score: 0.9725\n"
          ],
          "name": "stdout"
        }
      ]
    },
    {
      "cell_type": "code",
      "metadata": {
        "id": "7aE_6ynH_H9K",
        "colab_type": "code",
        "colab": {}
      },
      "source": [
        "# \"\"\" Technique d'aumentation du batch size \"\"\"\n",
        "\n",
        "# def fit_increase(batch_sizes):\n",
        "#   for i, bs in enumerate(batch_sizes):\n",
        "#     print(\"STEP \"+str(i+1), \"/ 4\", \"- BATCH SIZE =\", bs)\n",
        "#     global history\n",
        "#     history = model.fit(X_train,\n",
        "#                         y_train,\n",
        "#                         # epochs=int(4*(i+1)),\n",
        "#                         epochs=5,\n",
        "#                         batch_size=bs,\n",
        "#                         # callbacks=[callback],\n",
        "#                         validation_data=(X_val, y_val))\n",
        "#     print()\n",
        "\n",
        "# bbs = len(X_train) // 100  # base batch size\n",
        "# fit_increase([bbs*1, bbs*5, bbs*10, bbs*20])"
      ],
      "execution_count": null,
      "outputs": []
    },
    {
      "cell_type": "markdown",
      "metadata": {
        "id": "z2qprGHPPJUf",
        "colab_type": "text"
      },
      "source": [
        "Verifions le taux d'apprentissage final."
      ]
    },
    {
      "cell_type": "code",
      "metadata": {
        "id": "t8LGeaDnPL8p",
        "colab_type": "code",
        "colab": {}
      },
      "source": [
        "# \"\"\" ca devrait donner lr_init * decay_ratio ^ (n_epoch-1) \"\"\"\n",
        "# round(model.optimizer.lr.numpy(), 5)"
      ],
      "execution_count": null,
      "outputs": []
    },
    {
      "cell_type": "markdown",
      "metadata": {
        "id": "mS5F5p6WC0wL",
        "colab_type": "text"
      },
      "source": [
        "Observons la decroissance de la loss"
      ]
    },
    {
      "cell_type": "code",
      "metadata": {
        "id": "glQU6RacnMdB",
        "colab_type": "code",
        "colab": {
          "base_uri": "https://localhost:8080/",
          "height": 258
        },
        "outputId": "745d91fa-0ef5-42f9-9db3-c475655bbcee"
      },
      "source": [
        "history_dict = history.history\n",
        "\n",
        "loss = history.history['loss']\n",
        "val_loss = history.history['val_loss']\n",
        "# acc = history_dict['accuracy']\n",
        "# val_acc = history_dict['val_accuracy']\n",
        "acc = history_dict['r2_score']\n",
        "val_acc = history_dict['val_r2_score']\n",
        "\n",
        "epochs = range(1, len(loss)+1)\n",
        "ticks = range(1, len(loss)+1, 2)\n",
        "\n",
        "fig,(ax0,ax1)=plt.subplots(1,2,figsize=(10, 3))\n",
        "\n",
        "ax0.plot(epochs, loss, 'b', label='training loss')\n",
        "ax0.plot(epochs, val_loss, 'g.', label='validation loss')\n",
        "# ax0.set_ylim(0, 0.3)\n",
        "ax0.set_xticks(ticks)\n",
        "ax0.set_xlabel('epochs')\n",
        "ax0.set_ylabel('loss')\n",
        "# ax0.set_ylim(0, 1)\n",
        "ax0.legend();\n",
        "\n",
        "ax1.plot(epochs, acc, 'b', label='training accuracy')\n",
        "ax1.plot(epochs, val_acc, 'g.', label='validation accuracy')\n",
        "ax1.set_xticks(ticks)\n",
        "ax1.set_xlabel('epochs')\n",
        "ax1.set_ylabel('accuracy')\n",
        "# ax1.set_ylim(-1, 1)\n",
        "ax1.legend();\n",
        "\n",
        "plt.suptitle(\"Training and validation loss and accuracy\", y=1.1, fontsize='xx-large')\n",
        "plt.tight_layout()"
      ],
      "execution_count": null,
      "outputs": [
        {
          "output_type": "display_data",
          "data": {
            "image/png": "[encoded data removed]",
            "text/plain": [
              "<Figure size 720x216 with 2 Axes>"
            ]
          },
          "metadata": {
            "tags": [],
            "needs_background": "light"
          }
        }
      ]
    },
    {
      "cell_type": "code",
      "metadata": {
        "id": "oET5efkkpMG7",
        "colab_type": "code",
        "colab": {}
      },
      "source": [
        "\"\"\" Sauvegardons les bons modeles qu'on obtient \"\"\"\n",
        "model.save('DRNN_2D_REC.h5', save_format='tf')"
      ],
      "execution_count": null,
      "outputs": []
    },
    {
      "cell_type": "code",
      "metadata": {
        "id": "bzgSctnxa_R2",
        "colab_type": "code",
        "colab": {}
      },
      "source": [
        "\"\"\" Chargeons le modele \"\"\"\n",
        "model = keras.models.load_model(\"DRNN_2D_REC.tf\", custom_objects={\"r2_score\": r2_score}, compile=False)\n",
        "# model.compile(optimizer=keras.optimizers.Adam(1e-5), loss=keras.losses.mse, metrics=[r2_score])"
      ],
      "execution_count": null,
      "outputs": []
    },
    {
      "cell_type": "markdown",
      "metadata": {
        "id": "bOAk_vJQEbx6",
        "colab_type": "text"
      },
      "source": [
        "## Quelques predictions"
      ]
    },
    {
      "cell_type": "code",
      "metadata": {
        "id": "syfpIpvIEcaL",
        "colab_type": "code",
        "colab": {}
      },
      "source": [
        "hat_y_test = model.predict(X_test)"
      ],
      "execution_count": null,
      "outputs": []
    },
    {
      "cell_type": "code",
      "metadata": {
        "id": "AOtOPDldEkmE",
        "colab_type": "code",
        "colab": {
          "base_uri": "https://localhost:8080/",
          "height": 1000
        },
        "outputId": "ac1fb026-007e-4d1a-8bdb-36a217b31113"
      },
      "source": [
        "def print_prediction(hat_y_test, nb):\n",
        "  start = len_train + len_val\n",
        "  for i in range(0, n_targets-start, (n_targets-start)//nb):\n",
        "    print(\"target:    \", y_test[i])\n",
        "    print(\"prediction:\", hat_y_test[i], \"\\n\")\n",
        "\n",
        "print_prediction(hat_y_test, 20)"
      ],
      "execution_count": null,
      "outputs": [
        {
          "output_type": "stream",
          "text": [
            "target:     [0.246 0.341]\n",
            "prediction: [0.219 0.338] \n",
            "\n",
            "target:     [0.4   0.659]\n",
            "prediction: [0.395 0.661] \n",
            "\n",
            "target:     [0.677 0.505]\n",
            "prediction: [0.656 0.517] \n",
            "\n",
            "target:     [0.4   0.587]\n",
            "prediction: [0.392 0.59 ] \n",
            "\n",
            "target:     [0.308 0.3  ]\n",
            "prediction: [0.293 0.307] \n",
            "\n",
            "target:     [0.738 0.495]\n",
            "prediction: [0.716 0.483] \n",
            "\n",
            "target:     [0.246 0.433]\n",
            "prediction: [0.219 0.449] \n",
            "\n",
            "target:     [0.369 0.659]\n",
            "prediction: [0.358 0.661] \n",
            "\n",
            "target:     [0.477 0.649]\n",
            "prediction: [0.467 0.662] \n",
            "\n",
            "target:     [0.569 0.597]\n",
            "prediction: [0.561 0.588] \n",
            "\n",
            "target:     [0.8   0.505]\n",
            "prediction: [0.785 0.521] \n",
            "\n",
            "target:     [0.584 0.628]\n",
            "prediction: [0.577 0.629] \n",
            "\n",
            "target:     [0.492 0.567]\n",
            "prediction: [0.468 0.554] \n",
            "\n",
            "target:     [0.584 0.351]\n",
            "prediction: [0.577 0.334] \n",
            "\n",
            "target:     [0.769 0.567]\n",
            "prediction: [0.749 0.555] \n",
            "\n",
            "target:     [0.631 0.69 ]\n",
            "prediction: [0.608 0.693] \n",
            "\n",
            "target:     [0.431 0.536]\n",
            "prediction: [0.41  0.535] \n",
            "\n",
            "target:     [0.692 0.608]\n",
            "prediction: [0.684 0.612] \n",
            "\n",
            "target:     [0.416 0.433]\n",
            "prediction: [0.395 0.447] \n",
            "\n",
            "target:     [0.769 0.341]\n",
            "prediction: [0.752 0.336] \n",
            "\n"
          ],
          "name": "stdout"
        }
      ]
    },
    {
      "cell_type": "code",
      "metadata": {
        "id": "5wRZFweqUcLh",
        "colab_type": "code",
        "colab": {
          "base_uri": "https://localhost:8080/",
          "height": 88
        },
        "outputId": "e9642b1a-8510-4902-f4d8-02fa4b75c318"
      },
      "source": [
        "\"\"\" Le score r2 d'apres Keras \"\"\"\n",
        "\n",
        "print(\"r2 score on predictions: %.2f\"%(100*model.evaluate(X_test, y_test)[1]), \"%\")"
      ],
      "execution_count": null,
      "outputs": [
        {
          "output_type": "stream",
          "text": [
            "2/5 [===========>..................] - ETA: 0s - loss: 1.7755e-04 - r2_score: 0.9880WARNING:tensorflow:Callbacks method `on_test_batch_end` is slow compared to the batch time (batch time: 0.0175s vs `on_test_batch_end` time: 0.0524s). Check your callbacks.\n",
            "5/5 [==============================] - 0s 64ms/step - loss: 1.9353e-04 - r2_score: 0.9677\n",
            "r2 score on predictions: 96.77 %\n"
          ],
          "name": "stdout"
        }
      ]
    },
    {
      "cell_type": "markdown",
      "metadata": {
        "id": "fGKbGINGgGbR",
        "colab_type": "text"
      },
      "source": [
        "Deffinissons une mesure d'accuracy. \n",
        "\n",
        "On suppose la prediction correcte si elle est suffisament proche du label:\n",
        "- au **dizième** près pour la position (suivant x ou y)\n",
        "- à l'**unité** près pour la hauteur "
      ]
    },
    {
      "cell_type": "code",
      "metadata": {
        "id": "5c7idcq8h6gG",
        "colab_type": "code",
        "colab": {
          "base_uri": "https://localhost:8080/",
          "height": 51
        },
        "outputId": "8810db7a-6da1-4d4a-d482-f16f6fdc68fd"
      },
      "source": [
        "\"\"\" Calculons l'accuracy \"\"\"\n",
        "\n",
        "condition1 = (abs(y_test[:, 0] - hat_y_test[:, 0]) <= .1)         # postition x\n",
        "condition2 = (abs(y_test[:, 1] - hat_y_test[:, 1]) <= .1)         # postition y\n",
        "# condition3 = (abs(y_test[:, 2] - hat_y_test[:, 2]) <= 1)          # hauteur\n",
        "\n",
        "acc_pos_x = 100 * len(hat_y_test[condition1]) / len(hat_y_test)\n",
        "acc_pos_y = 100 * len(hat_y_test[condition2]) / len(hat_y_test)\n",
        "# acc_hgt = 100 * len(hat_y_test[condition3]) / len(hat_y_test)\n",
        "# acc = 100 * len(hat_y_test[condition1 & condition2 & condition3]) / len(hat_y_test)\n",
        "\n",
        "print(\"position x accuracy: %.2f\"%acc_pos_x, \"%\")\n",
        "print(\"position y accuracy: %.2f\"%acc_pos_y, \"%\")\n",
        "\n",
        "# print(\"height accuracy:     %.2f\"%acc_hgt, \"%\")\n",
        "# print()\n",
        "# print(\"total accuracy:      %.2f\"%acc, \"%\")"
      ],
      "execution_count": null,
      "outputs": [
        {
          "output_type": "stream",
          "text": [
            "position x accuracy: 100.00 %\n",
            "position y accuracy: 100.00 %\n"
          ],
          "name": "stdout"
        }
      ]
    },
    {
      "cell_type": "markdown",
      "metadata": {
        "id": "yqY96hSoOPXC",
        "colab_type": "text"
      },
      "source": [
        "## Conclusion"
      ]
    }
  ]
}