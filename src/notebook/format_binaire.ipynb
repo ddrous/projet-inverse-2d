{
  "nbformat": 4,
  "nbformat_minor": 0,
  "metadata": {
    "colab": {
      "name": "Fonctions.ipynb",
      "provenance": [],
      "collapsed_sections": [],
      "toc_visible": true,
      "include_colab_link": true
    },
    "kernelspec": {
      "display_name": "Python 3",
      "language": "python",
      "name": "python3"
    },
    "language_info": {
      "codemirror_mode": {
        "name": "ipython",
        "version": 3
      },
      "file_extension": ".py",
      "mimetype": "text/x-python",
      "name": "python",
      "nbconvert_exporter": "python",
      "pygments_lexer": "ipython3",
      "version": "3.7.6"
    }
  },
  "cells": [
    {
      "cell_type": "markdown",
      "metadata": {
        "id": "view-in-github",
        "colab_type": "text"
      },
      "source": [
        "<a href=\"https://colab.research.google.com/github/desmond-rn/projet-inverse-2d/blob/master/src/notebook/format_binaire.ipynb\" target=\"_parent\"><img src=\"https://colab.research.google.com/assets/colab-badge.svg\" alt=\"Open In Colab\"/></a>"
      ]
    },
    {
      "cell_type": "markdown",
      "metadata": {
        "colab_type": "text",
        "id": "qxCUfRNWGGvi"
      },
      "source": [
        "# Lecture du format binaire SDS"
      ]
    },
    {
      "cell_type": "code",
      "metadata": {
        "id": "vU6rE5DnlATL",
        "colab_type": "code",
        "colab": {}
      },
      "source": [
        "%reset -f"
      ],
      "execution_count": null,
      "outputs": []
    },
    {
      "cell_type": "code",
      "metadata": {
        "colab_type": "code",
        "id": "JtAq0O5XGELH",
        "colab": {}
      },
      "source": [
        "import matplotlib.pyplot as plt\n",
        "import matplotlib.image as mpimg\n",
        "import numpy as np\n",
        "import pandas as pd\n",
        "import keras\n",
        "import random\n",
        "import sklearn\n",
        "import struct\n",
        "\n",
        "from ast import literal_eval as l_eval"
      ],
      "execution_count": null,
      "outputs": []
    },
    {
      "cell_type": "code",
      "metadata": {
        "id": "34nIRiVYjixy",
        "colab_type": "code",
        "colab": {}
      },
      "source": [
        "from keras import layers\n",
        "from keras import models\n",
        "from keras import utils \n",
        "from keras import losses\n",
        "from keras import metrics\n",
        "from keras import optimizers\n",
        "from keras import backend as K\n",
        "from sklearn import metrics"
      ],
      "execution_count": null,
      "outputs": []
    },
    {
      "cell_type": "code",
      "metadata": {
        "id": "_613bT0QlATU",
        "colab_type": "code",
        "colab": {}
      },
      "source": [
        "np.set_printoptions(precision = 3)"
      ],
      "execution_count": null,
      "outputs": []
    },
    {
      "cell_type": "markdown",
      "metadata": {
        "colab_type": "text",
        "id": "lCNMvubIgyJW"
      },
      "source": [
        "## Chargement des données"
      ]
    },
    {
      "cell_type": "code",
      "metadata": {
        "id": "pCjoUMLNoH5p",
        "colab_type": "code",
        "colab": {
          "base_uri": "https://localhost:8080/",
          "height": 35
        },
        "outputId": "65e29e27-d94e-41d1-beda-79d198e85257"
      },
      "source": [
        "\"\"\" DEPUIS GOOGLE DRIVE \"\"\"\n",
        "\n",
        "# from google.colab import drive\n",
        "# drive.mount('/gdrive')"
      ],
      "execution_count": null,
      "outputs": [
        {
          "output_type": "execute_result",
          "data": {
            "application/vnd.google.colaboratory.intrinsic+json": {
              "type": "string"
            },
            "text/plain": [
              "' DEPUIS GOOGLE DRIVE '"
            ]
          },
          "metadata": {
            "tags": []
          },
          "execution_count": 90
        }
      ]
    },
    {
      "cell_type": "code",
      "metadata": {
        "id": "bfhzPvyEom1Y",
        "colab_type": "code",
        "colab": {
          "base_uri": "https://localhost:8080/",
          "height": 170
        },
        "outputId": "9e74c020-d8ad-4105-e930-b0d48d54c1d5"
      },
      "source": [
        "%cd ~\n",
        "%cd /gdrive/My\\ Drive\n",
        "%cd Colab\\ Notebooks/Projet\\ inverse/data\n",
        "print()\n",
        "\n",
        "%ls"
      ],
      "execution_count": null,
      "outputs": [
        {
          "output_type": "stream",
          "text": [
            "/root\n",
            "/gdrive/My Drive\n",
            "/gdrive/My Drive/Colab Notebooks/Projet inverse/data\n",
            "\n",
            "df_rho_part10.pqt  df_rho_part15.pqt  df_rho_part1.pqt   df_rho_part5.pqt\n",
            "df_rho_part11.pqt  df_rho_part16.pqt  df_rho_part20.pqt  df_rho_part6.pqt\n",
            "df_rho_part12.pqt  df_rho_part17.pqt  df_rho_part2.pqt   obstacle.png\n",
            "df_rho_part13.pqt  df_rho_part18.pqt  df_rho_part3.pqt   part_1.sds\n",
            "df_rho_part14.pqt  df_rho_part19.pqt  df_rho_part4.pqt\n"
          ],
          "name": "stdout"
        }
      ]
    },
    {
      "cell_type": "markdown",
      "metadata": {
        "colab_type": "text",
        "id": "B51nSgjiGGn5"
      },
      "source": [
        "Les donnees sont souvent sauvegardées dans un format binaire intitulé **SDS** (source-densité-signal). La version 01 de ce format est structurée dans l'ordre ci-après (l'en-tete du fichier est compris entre les lignes horizontales, et le reste represente la structure d'une des simulations presente dans le fichier):\n",
        "\n",
        "---\n",
        "- **`5`** octets pour la constante magique **sds01**\n",
        "- __`2`__ octets pour le nombre de simulations presentes dans le fichier\n",
        "- __`2`__ octets pour `N` (nombre de mailles en horizontale)\n",
        "- __`2`__ octets pour `M` (nombre de mailles en verticale)\n",
        "- __`2`__ octets pour `step_count` (nombre d'iterations en temps)\n",
        "- **`1`** octet pour le charactere 0xA (newline)\n",
        "---\n",
        "- **`1`** octet pour le bord sur lequel se trouve la source: (0 pour up, 1 pour down, 2 pour left, 3 pour right, et -1 si aucun de ces 4)\n",
        "- **`1`** octet pour la position de la source sur son bord: (0 pour (0.1, 0.3), 1 pour (0.3, 0.5), 2 pour (0.5, 0.7), 3 pour (0.7, 0.9), et -1 si aucun de ces 4)\n",
        "- __`4 * 4`__ octets pour les attributs du crenau de densite: 4 octets (float) pour l'abcisse, 4 pour l'ordonee, 4 pour la valeur de la densite en dehors du crenau, et 4 pour la  hauteur du crenau.\n",
        "- **`step_count * N * 4`** octets pour E_up\n",
        "- idem pour F_up\n",
        "- idem pour T_up\n",
        "- **`step_count * N * 4`** octets pour E_down\n",
        "- idem pour F_up\n",
        "- idem pour T_up\n",
        "- **`step_count * M * 4`** octets pour E_left\n",
        "- idem pour F_left\n",
        "- idem pour T_left\n",
        "- **`step_count * M * 4`** octets pour E_right\n",
        "- idem pour F_right\n",
        "- idem pour T_right\n",
        "- **`1`** octet pour le charactere 0xA (newline)"
      ]
    },
    {
      "cell_type": "code",
      "metadata": {
        "id": "nopK185rxObh",
        "colab_type": "code",
        "colab": {}
      },
      "source": [
        "def read_sds_version01(file_path):\n",
        "\n",
        "  file = open(file_path, \"rb\")\n",
        "\n",
        "  sds_version = file.read(5)\n",
        "  assert(sds_version == b'sds01')\n",
        "\n",
        "  simu_count = int.from_bytes(file.read(2), byteorder='little', signed=False)\n",
        "  N = int.from_bytes(file.read(2), byteorder='little', signed=False)\n",
        "  M = int.from_bytes(file.read(2), byteorder='little', signed=False)\n",
        "  step_count = int.from_bytes(file.read(2), byteorder='little', signed=False)\n",
        "\n",
        "  assert(file.read(1) == b'\\n')\n",
        "\n",
        "  X = np.zeros(shape=(simu_count // 4, step_count, N, 4, 4, 3), dtype=np.float32)\n",
        "  y = np.zeros(shape=(simu_count // 4, 4), dtype=np.float32)\n",
        "\n",
        "  index = 0\n",
        "  pos_count = 0\n",
        "  while True:\n",
        "    byte = file.read(1)\n",
        "    if byte != True:\n",
        "      break\n",
        "\n",
        "    source_edge = int.from_bytes(byte, byteorder='little', signed=True)\n",
        "    source_pos = int.from_bytes(file.read(1), byteorder='little', signed=True)\n",
        "    assert (source_edge != -1 and source_pos != -1)\n",
        "    print(\"index\", index)\n",
        "    print(\"source \", source_edge, source_pos)\n",
        "\n",
        "    rho_attr = file.read(4*4)\n",
        "    y[index, :] = np.frombuffer(rho_attr, dtype=np.float32)\n",
        "\n",
        "    for e in range(4):\n",
        "      for ch in range(3):\n",
        "        signal = file.read(step_count*N*4)\n",
        "        X[index, :, :, e, source_pos, ch] = np.frombuffer(signal, dtype=np.float32).reshape(step_count, N)\n",
        "\n",
        "    assert(file.read(1) == b'\\n')\n",
        "    pos_count += 1\n",
        "    if pos_count == 4:\n",
        "      index += 1\n",
        "      pos_count = 0\n",
        "\n",
        "  return X, y"
      ],
      "execution_count": null,
      "outputs": []
    },
    {
      "cell_type": "code",
      "metadata": {
        "id": "FRXnCvOtWnhs",
        "colab_type": "code",
        "colab": {
          "base_uri": "https://localhost:8080/",
          "height": 51
        },
        "outputId": "7be2a54e-a751-4243-fde7-d39fba9a7ce3"
      },
      "source": [
        "X, y = read_sds_version01(\"part_1.sds\")\n",
        "\n",
        "print(\"X shape:\", X.shape)\n",
        "print(\"y shape:\", y.shape)"
      ],
      "execution_count": null,
      "outputs": [
        {
          "output_type": "stream",
          "text": [
            "X shape: (1, 90, 20, 4, 4, 3)\n",
            "y shape: (1, 4)\n"
          ],
          "name": "stdout"
        }
      ]
    },
    {
      "cell_type": "markdown",
      "metadata": {
        "id": "Ga-wZgGaW9Bs",
        "colab_type": "text"
      },
      "source": [
        "# Calcul du corefficient de determination R^2"
      ]
    },
    {
      "cell_type": "markdown",
      "metadata": {
        "id": "QJJLSKJLXKoa",
        "colab_type": "text"
      },
      "source": [
        "Cette fonction est necessaire pour charger les models de CNN qui l'utilisebnt comme metrique."
      ]
    },
    {
      "cell_type": "code",
      "metadata": {
        "id": "U6AHTsGQW9V0",
        "colab_type": "code",
        "colab": {}
      },
      "source": [
        "from keras import backend as K\n",
        "\n",
        "\"\"\" Pour calculer le score r^2\"\"\"\n",
        "def r2_score(y_true, y_pred):\n",
        "    SS_res =  K.sum(K.square(y_true - y_pred), axis=-1) \n",
        "    SS_tot = K.sum(K.square(y_true - K.mean(y_true)), axis=-1)\n",
        "    return 1.0 - SS_res/(SS_tot + K.epsilon())"
      ],
      "execution_count": null,
      "outputs": []
    },
    {
      "cell_type": "markdown",
      "metadata": {
        "id": "mmVuutvXXgNS",
        "colab_type": "text"
      },
      "source": [
        "Apres avoir defini cette fonction, il suffit d'utiliser la commande suivant pour rendre operationel le model.\n",
        "``` \n",
        "model = keras.models.load_model(\"NomDuModel.h5\", custom_objects={\"r2_score\": r2_score}, compile=False)\n",
        "model.compile(optimizer=keras.optimizers.Adam(1e-5), loss=keras.losses.mse, metrics=[r2_score])\n",
        "```"
      ]
    }
  ]
}